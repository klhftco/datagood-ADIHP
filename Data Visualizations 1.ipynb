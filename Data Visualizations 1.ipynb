{
  "nbformat": 4,
  "nbformat_minor": 0,
  "metadata": {
    "colab": {
      "name": "Week 2: Data Visualizations I.ipynb",
      "provenance": [],
      "collapsed_sections": [],
      "include_colab_link": true
    },
    "kernelspec": {
      "display_name": "Python 3",
      "name": "python3"
    }
  },
  "cells": [
    {
      "cell_type": "markdown",
      "metadata": {
        "id": "view-in-github",
        "colab_type": "text"
      },
      "source": [
        "<a href=\"https://colab.research.google.com/github/klhftco/datagood-ADIHP/blob/main/Data%20Visualizations%201.ipynb\" target=\"_parent\"><img src=\"https://colab.research.google.com/assets/colab-badge.svg\" alt=\"Open In Colab\"/></a>"
      ]
    },
    {
      "cell_type": "markdown",
      "metadata": {
        "id": "6zk_o0bk4acF"
      },
      "source": [
        "## Visualizations (written by Neha Hudait) \n",
        "This week, we will focus primarily on how to visualize the data we are working with. We will work with a dataset that deals with household incomes and understand how to analyze it from a visual perspective.\n",
        "\n",
        "As always, we will first import some necessary modules and import the dataset.\n",
        "\n",
        "https://forms.gle/tay3dbw85P28Sksu5 <- Submission link for ADIHP"
      ]
    },
    {
      "cell_type": "code",
      "source": [
        "from google.colab import drive\n",
        "drive.mount('/content/drive')"
      ],
      "metadata": {
        "id": "sIz2hYs_fGAC",
        "colab": {
          "base_uri": "https://localhost:8080/",
          "height": 353
        },
        "outputId": "b2e7c892-4bc9-4cb4-b536-e592bc9e4640"
      },
      "execution_count": null,
      "outputs": [
        {
          "output_type": "error",
          "ename": "MessageError",
          "evalue": "ignored",
          "traceback": [
            "\u001b[0;31m---------------------------------------------------------------------------\u001b[0m",
            "\u001b[0;31mMessageError\u001b[0m                              Traceback (most recent call last)",
            "\u001b[0;32m<ipython-input-1-d5df0069828e>\u001b[0m in \u001b[0;36m<module>\u001b[0;34m()\u001b[0m\n\u001b[1;32m      1\u001b[0m \u001b[0;32mfrom\u001b[0m \u001b[0mgoogle\u001b[0m\u001b[0;34m.\u001b[0m\u001b[0mcolab\u001b[0m \u001b[0;32mimport\u001b[0m \u001b[0mdrive\u001b[0m\u001b[0;34m\u001b[0m\u001b[0;34m\u001b[0m\u001b[0m\n\u001b[0;32m----> 2\u001b[0;31m \u001b[0mdrive\u001b[0m\u001b[0;34m.\u001b[0m\u001b[0mmount\u001b[0m\u001b[0;34m(\u001b[0m\u001b[0;34m'/content/drive'\u001b[0m\u001b[0;34m)\u001b[0m\u001b[0;34m\u001b[0m\u001b[0;34m\u001b[0m\u001b[0m\n\u001b[0m",
            "\u001b[0;32m/usr/local/lib/python3.7/dist-packages/google/colab/drive.py\u001b[0m in \u001b[0;36mmount\u001b[0;34m(mountpoint, force_remount, timeout_ms, use_metadata_server)\u001b[0m\n\u001b[1;32m    113\u001b[0m       \u001b[0mforce_remount\u001b[0m\u001b[0;34m=\u001b[0m\u001b[0mforce_remount\u001b[0m\u001b[0;34m,\u001b[0m\u001b[0;34m\u001b[0m\u001b[0;34m\u001b[0m\u001b[0m\n\u001b[1;32m    114\u001b[0m       \u001b[0mtimeout_ms\u001b[0m\u001b[0;34m=\u001b[0m\u001b[0mtimeout_ms\u001b[0m\u001b[0;34m,\u001b[0m\u001b[0;34m\u001b[0m\u001b[0;34m\u001b[0m\u001b[0m\n\u001b[0;32m--> 115\u001b[0;31m       ephemeral=True)\n\u001b[0m\u001b[1;32m    116\u001b[0m \u001b[0;34m\u001b[0m\u001b[0m\n\u001b[1;32m    117\u001b[0m \u001b[0;34m\u001b[0m\u001b[0m\n",
            "\u001b[0;32m/usr/local/lib/python3.7/dist-packages/google/colab/drive.py\u001b[0m in \u001b[0;36m_mount\u001b[0;34m(mountpoint, force_remount, timeout_ms, use_metadata_server, ephemeral)\u001b[0m\n\u001b[1;32m    133\u001b[0m   \u001b[0;32mif\u001b[0m \u001b[0mephemeral\u001b[0m\u001b[0;34m:\u001b[0m\u001b[0;34m\u001b[0m\u001b[0;34m\u001b[0m\u001b[0m\n\u001b[1;32m    134\u001b[0m     _message.blocking_request(\n\u001b[0;32m--> 135\u001b[0;31m         'request_auth', request={'authType': 'dfs_ephemeral'}, timeout_sec=None)\n\u001b[0m\u001b[1;32m    136\u001b[0m \u001b[0;34m\u001b[0m\u001b[0m\n\u001b[1;32m    137\u001b[0m   \u001b[0mmountpoint\u001b[0m \u001b[0;34m=\u001b[0m \u001b[0m_os\u001b[0m\u001b[0;34m.\u001b[0m\u001b[0mpath\u001b[0m\u001b[0;34m.\u001b[0m\u001b[0mexpanduser\u001b[0m\u001b[0;34m(\u001b[0m\u001b[0mmountpoint\u001b[0m\u001b[0;34m)\u001b[0m\u001b[0;34m\u001b[0m\u001b[0;34m\u001b[0m\u001b[0m\n",
            "\u001b[0;32m/usr/local/lib/python3.7/dist-packages/google/colab/_message.py\u001b[0m in \u001b[0;36mblocking_request\u001b[0;34m(request_type, request, timeout_sec, parent)\u001b[0m\n\u001b[1;32m    173\u001b[0m   request_id = send_request(\n\u001b[1;32m    174\u001b[0m       request_type, request, parent=parent, expect_reply=True)\n\u001b[0;32m--> 175\u001b[0;31m   \u001b[0;32mreturn\u001b[0m \u001b[0mread_reply_from_input\u001b[0m\u001b[0;34m(\u001b[0m\u001b[0mrequest_id\u001b[0m\u001b[0;34m,\u001b[0m \u001b[0mtimeout_sec\u001b[0m\u001b[0;34m)\u001b[0m\u001b[0;34m\u001b[0m\u001b[0;34m\u001b[0m\u001b[0m\n\u001b[0m",
            "\u001b[0;32m/usr/local/lib/python3.7/dist-packages/google/colab/_message.py\u001b[0m in \u001b[0;36mread_reply_from_input\u001b[0;34m(message_id, timeout_sec)\u001b[0m\n\u001b[1;32m    104\u001b[0m         reply.get('colab_msg_id') == message_id):\n\u001b[1;32m    105\u001b[0m       \u001b[0;32mif\u001b[0m \u001b[0;34m'error'\u001b[0m \u001b[0;32min\u001b[0m \u001b[0mreply\u001b[0m\u001b[0;34m:\u001b[0m\u001b[0;34m\u001b[0m\u001b[0;34m\u001b[0m\u001b[0m\n\u001b[0;32m--> 106\u001b[0;31m         \u001b[0;32mraise\u001b[0m \u001b[0mMessageError\u001b[0m\u001b[0;34m(\u001b[0m\u001b[0mreply\u001b[0m\u001b[0;34m[\u001b[0m\u001b[0;34m'error'\u001b[0m\u001b[0;34m]\u001b[0m\u001b[0;34m)\u001b[0m\u001b[0;34m\u001b[0m\u001b[0;34m\u001b[0m\u001b[0m\n\u001b[0m\u001b[1;32m    107\u001b[0m       \u001b[0;32mreturn\u001b[0m \u001b[0mreply\u001b[0m\u001b[0;34m.\u001b[0m\u001b[0mget\u001b[0m\u001b[0;34m(\u001b[0m\u001b[0;34m'data'\u001b[0m\u001b[0;34m,\u001b[0m \u001b[0;32mNone\u001b[0m\u001b[0;34m)\u001b[0m\u001b[0;34m\u001b[0m\u001b[0;34m\u001b[0m\u001b[0m\n\u001b[1;32m    108\u001b[0m \u001b[0;34m\u001b[0m\u001b[0m\n",
            "\u001b[0;31mMessageError\u001b[0m: Error: credential propagation was unsuccessful"
          ]
        }
      ]
    },
    {
      "cell_type": "code",
      "metadata": {
        "id": "AQ3BA0Tq5FIb"
      },
      "source": [
        "import pandas as pd\n",
        "import numpy as np\n",
        "import matplotlib.pyplot as plt"
      ],
      "execution_count": null,
      "outputs": []
    },
    {
      "cell_type": "code",
      "metadata": {
        "id": "mw-yBH145oPP"
      },
      "source": [
        "#importing the data\n",
        "df = pd.read_csv('https://raw.githubusercontent.com/shoehair/beginner-track/main/unemployment.csv')\n",
        "#'/content/drive/Shared with me/DataGood @ Berkeley/Spring2021/Beginner Track/unemployment.csv'\n",
        "#reviewing from last week: renaming columns\n",
        "df = df.rename(columns={\"POVALL_2016\": \"Total_Estimate\", \"CI90LBAll_2016\": \"90_Upper\", \"CI90UBALL_2016\": \"90_Lower\"})\n",
        "df.head()\n",
        "\n",
        "#reviewing from last week: removing dollar signs \n",
        "def remove_non_numbers(x): \n",
        "  # check if input is valid  \n",
        "  if not x:\n",
        "    return 0\n",
        "  # since we know the first element is always a \"$\", we can simply slice the string and return the result casted into an integer \n",
        "  no_dollar_sign = int(x[1:].replace(\",\", \"\"))\n",
        "  return no_dollar_sign\n",
        "\n",
        "df[\"Median_Household_Income_2016\"] = df[\"Median_Household_Income_2016\"].apply(remove_non_numbers)"
      ],
      "execution_count": null,
      "outputs": []
    },
    {
      "cell_type": "markdown",
      "metadata": {
        "id": "zdK6dmvb96mm"
      },
      "source": [
        "Let's compare the unemployment rate and median household income and see if there is an association in California. Let's first load the dataframe for California."
      ]
    },
    {
      "cell_type": "code",
      "metadata": {
        "colab": {
          "base_uri": "https://localhost:8080/",
          "height": 341
        },
        "id": "NgVLWtln-DMu",
        "outputId": "8f95437d-fa9f-41d6-ed24-9077415e2a1e"
      },
      "source": [
        "is_ca = df[\"State\"] == \"CA\"\n",
        "df_ca =  df[is_ca]\n",
        "df_ca.head()"
      ],
      "execution_count": null,
      "outputs": [
        {
          "output_type": "execute_result",
          "data": {
            "text/html": [
              "\n",
              "  <div id=\"df-00aaaed5-20a4-441b-97dc-1b398a7de185\">\n",
              "    <div class=\"colab-df-container\">\n",
              "      <div>\n",
              "<style scoped>\n",
              "    .dataframe tbody tr th:only-of-type {\n",
              "        vertical-align: middle;\n",
              "    }\n",
              "\n",
              "    .dataframe tbody tr th {\n",
              "        vertical-align: top;\n",
              "    }\n",
              "\n",
              "    .dataframe thead th {\n",
              "        text-align: right;\n",
              "    }\n",
              "</style>\n",
              "<table border=\"1\" class=\"dataframe\">\n",
              "  <thead>\n",
              "    <tr style=\"text-align: right;\">\n",
              "      <th></th>\n",
              "      <th>FIPStxt</th>\n",
              "      <th>State</th>\n",
              "      <th>Area_name</th>\n",
              "      <th>Metro_2013</th>\n",
              "      <th>Civilian_labor_force_2016</th>\n",
              "      <th>Employed_2016</th>\n",
              "      <th>Unemployed_2016</th>\n",
              "      <th>Unemployment_rate_2016</th>\n",
              "      <th>Median_Household_Income_2016</th>\n",
              "      <th>Total_Estimate</th>\n",
              "      <th>90_Upper</th>\n",
              "      <th>90_Lower</th>\n",
              "    </tr>\n",
              "  </thead>\n",
              "  <tbody>\n",
              "    <tr>\n",
              "      <th>186</th>\n",
              "      <td>6001</td>\n",
              "      <td>CA</td>\n",
              "      <td>Alameda County, CA</td>\n",
              "      <td>1</td>\n",
              "      <td>837,583</td>\n",
              "      <td>801,774</td>\n",
              "      <td>35,809</td>\n",
              "      <td>4.3</td>\n",
              "      <td>89472</td>\n",
              "      <td>173,386</td>\n",
              "      <td>162,673</td>\n",
              "      <td>184,099</td>\n",
              "    </tr>\n",
              "    <tr>\n",
              "      <th>187</th>\n",
              "      <td>6003</td>\n",
              "      <td>CA</td>\n",
              "      <td>Alpine County, CA</td>\n",
              "      <td>0</td>\n",
              "      <td>557</td>\n",
              "      <td>521</td>\n",
              "      <td>36</td>\n",
              "      <td>6.5</td>\n",
              "      <td>57481</td>\n",
              "      <td>199</td>\n",
              "      <td>156</td>\n",
              "      <td>242</td>\n",
              "    </tr>\n",
              "    <tr>\n",
              "      <th>188</th>\n",
              "      <td>6005</td>\n",
              "      <td>CA</td>\n",
              "      <td>Amador County, CA</td>\n",
              "      <td>0</td>\n",
              "      <td>14,574</td>\n",
              "      <td>13,706</td>\n",
              "      <td>868</td>\n",
              "      <td>6.0</td>\n",
              "      <td>59789</td>\n",
              "      <td>3,846</td>\n",
              "      <td>3,021</td>\n",
              "      <td>4,671</td>\n",
              "    </tr>\n",
              "    <tr>\n",
              "      <th>189</th>\n",
              "      <td>6007</td>\n",
              "      <td>CA</td>\n",
              "      <td>Butte County, CA</td>\n",
              "      <td>1</td>\n",
              "      <td>101,987</td>\n",
              "      <td>95,246</td>\n",
              "      <td>6,741</td>\n",
              "      <td>6.6</td>\n",
              "      <td>45097</td>\n",
              "      <td>43,428</td>\n",
              "      <td>38,902</td>\n",
              "      <td>47,954</td>\n",
              "    </tr>\n",
              "    <tr>\n",
              "      <th>190</th>\n",
              "      <td>6009</td>\n",
              "      <td>CA</td>\n",
              "      <td>Calaveras County, CA</td>\n",
              "      <td>0</td>\n",
              "      <td>20,868</td>\n",
              "      <td>19,684</td>\n",
              "      <td>1,184</td>\n",
              "      <td>5.7</td>\n",
              "      <td>57990</td>\n",
              "      <td>5,833</td>\n",
              "      <td>4,638</td>\n",
              "      <td>7,028</td>\n",
              "    </tr>\n",
              "  </tbody>\n",
              "</table>\n",
              "</div>\n",
              "      <button class=\"colab-df-convert\" onclick=\"convertToInteractive('df-00aaaed5-20a4-441b-97dc-1b398a7de185')\"\n",
              "              title=\"Convert this dataframe to an interactive table.\"\n",
              "              style=\"display:none;\">\n",
              "        \n",
              "  <svg xmlns=\"http://www.w3.org/2000/svg\" height=\"24px\"viewBox=\"0 0 24 24\"\n",
              "       width=\"24px\">\n",
              "    <path d=\"M0 0h24v24H0V0z\" fill=\"none\"/>\n",
              "    <path d=\"M18.56 5.44l.94 2.06.94-2.06 2.06-.94-2.06-.94-.94-2.06-.94 2.06-2.06.94zm-11 1L8.5 8.5l.94-2.06 2.06-.94-2.06-.94L8.5 2.5l-.94 2.06-2.06.94zm10 10l.94 2.06.94-2.06 2.06-.94-2.06-.94-.94-2.06-.94 2.06-2.06.94z\"/><path d=\"M17.41 7.96l-1.37-1.37c-.4-.4-.92-.59-1.43-.59-.52 0-1.04.2-1.43.59L10.3 9.45l-7.72 7.72c-.78.78-.78 2.05 0 2.83L4 21.41c.39.39.9.59 1.41.59.51 0 1.02-.2 1.41-.59l7.78-7.78 2.81-2.81c.8-.78.8-2.07 0-2.86zM5.41 20L4 18.59l7.72-7.72 1.47 1.35L5.41 20z\"/>\n",
              "  </svg>\n",
              "      </button>\n",
              "      \n",
              "  <style>\n",
              "    .colab-df-container {\n",
              "      display:flex;\n",
              "      flex-wrap:wrap;\n",
              "      gap: 12px;\n",
              "    }\n",
              "\n",
              "    .colab-df-convert {\n",
              "      background-color: #E8F0FE;\n",
              "      border: none;\n",
              "      border-radius: 50%;\n",
              "      cursor: pointer;\n",
              "      display: none;\n",
              "      fill: #1967D2;\n",
              "      height: 32px;\n",
              "      padding: 0 0 0 0;\n",
              "      width: 32px;\n",
              "    }\n",
              "\n",
              "    .colab-df-convert:hover {\n",
              "      background-color: #E2EBFA;\n",
              "      box-shadow: 0px 1px 2px rgba(60, 64, 67, 0.3), 0px 1px 3px 1px rgba(60, 64, 67, 0.15);\n",
              "      fill: #174EA6;\n",
              "    }\n",
              "\n",
              "    [theme=dark] .colab-df-convert {\n",
              "      background-color: #3B4455;\n",
              "      fill: #D2E3FC;\n",
              "    }\n",
              "\n",
              "    [theme=dark] .colab-df-convert:hover {\n",
              "      background-color: #434B5C;\n",
              "      box-shadow: 0px 1px 3px 1px rgba(0, 0, 0, 0.15);\n",
              "      filter: drop-shadow(0px 1px 2px rgba(0, 0, 0, 0.3));\n",
              "      fill: #FFFFFF;\n",
              "    }\n",
              "  </style>\n",
              "\n",
              "      <script>\n",
              "        const buttonEl =\n",
              "          document.querySelector('#df-00aaaed5-20a4-441b-97dc-1b398a7de185 button.colab-df-convert');\n",
              "        buttonEl.style.display =\n",
              "          google.colab.kernel.accessAllowed ? 'block' : 'none';\n",
              "\n",
              "        async function convertToInteractive(key) {\n",
              "          const element = document.querySelector('#df-00aaaed5-20a4-441b-97dc-1b398a7de185');\n",
              "          const dataTable =\n",
              "            await google.colab.kernel.invokeFunction('convertToInteractive',\n",
              "                                                     [key], {});\n",
              "          if (!dataTable) return;\n",
              "\n",
              "          const docLinkHtml = 'Like what you see? Visit the ' +\n",
              "            '<a target=\"_blank\" href=https://colab.research.google.com/notebooks/data_table.ipynb>data table notebook</a>'\n",
              "            + ' to learn more about interactive tables.';\n",
              "          element.innerHTML = '';\n",
              "          dataTable['output_type'] = 'display_data';\n",
              "          await google.colab.output.renderOutput(dataTable, element);\n",
              "          const docLink = document.createElement('div');\n",
              "          docLink.innerHTML = docLinkHtml;\n",
              "          element.appendChild(docLink);\n",
              "        }\n",
              "      </script>\n",
              "    </div>\n",
              "  </div>\n",
              "  "
            ],
            "text/plain": [
              "     FIPStxt State             Area_name  Metro_2013  \\\n",
              "186     6001    CA    Alameda County, CA           1   \n",
              "187     6003    CA     Alpine County, CA           0   \n",
              "188     6005    CA     Amador County, CA           0   \n",
              "189     6007    CA      Butte County, CA           1   \n",
              "190     6009    CA  Calaveras County, CA           0   \n",
              "\n",
              "    Civilian_labor_force_2016 Employed_2016 Unemployed_2016  \\\n",
              "186                   837,583       801,774          35,809   \n",
              "187                       557           521              36   \n",
              "188                    14,574        13,706             868   \n",
              "189                   101,987        95,246           6,741   \n",
              "190                    20,868        19,684           1,184   \n",
              "\n",
              "     Unemployment_rate_2016  Median_Household_Income_2016 Total_Estimate  \\\n",
              "186                     4.3                         89472        173,386   \n",
              "187                     6.5                         57481            199   \n",
              "188                     6.0                         59789          3,846   \n",
              "189                     6.6                         45097         43,428   \n",
              "190                     5.7                         57990          5,833   \n",
              "\n",
              "    90_Upper 90_Lower  \n",
              "186  162,673  184,099  \n",
              "187      156      242  \n",
              "188    3,021    4,671  \n",
              "189   38,902   47,954  \n",
              "190    4,638    7,028  "
            ]
          },
          "metadata": {},
          "execution_count": 4
        }
      ]
    },
    {
      "cell_type": "code",
      "metadata": {
        "colab": {
          "base_uri": "https://localhost:8080/",
          "height": 312
        },
        "id": "xmYj7bEn-5UC",
        "outputId": "487d80ba-16fa-4f25-bf96-bcabde8cd967"
      },
      "source": [
        "plt.scatter(df_ca[\"Median_Household_Income_2016\"], df_ca[\"Unemployment_rate_2016\"])\n",
        "plt.xlabel(\"Median Household Income\")\n",
        "plt.ylabel(\"Unemployment Rate\")\n",
        "plt.title(\"California Income vs. Unemployment in 2016\")"
      ],
      "execution_count": null,
      "outputs": [
        {
          "output_type": "execute_result",
          "data": {
            "text/plain": [
              "Text(0.5, 1.0, 'California Income vs. Unemployment in 2016')"
            ]
          },
          "metadata": {},
          "execution_count": 5
        },
        {
          "output_type": "display_data",
          "data": {
            "image/png": "[encoded data removed]",
            "text/plain": [
              "<Figure size 432x288 with 1 Axes>"
            ]
          },
          "metadata": {
            "needs_background": "light"
          }
        }
      ]
    },
    {
      "cell_type": "markdown",
      "metadata": {
        "id": "Y57TTFhzL3ph"
      },
      "source": [
        "**Mini-task 1** Create a scatter plot of income rate vs. unemployment for New York."
      ]
    },
    {
      "cell_type": "code",
      "metadata": {
        "id": "K2Xq-XwGL5AU"
      },
      "source": [
        ""
      ],
      "execution_count": null,
      "outputs": []
    },
    {
      "cell_type": "markdown",
      "metadata": {
        "id": "g9o6w2EL_Z0o"
      },
      "source": [
        "Let's now plot this just to see what the relationship is throughout the entire United States as opposed to just California using the groupby method."
      ]
    },
    {
      "cell_type": "code",
      "metadata": {
        "colab": {
          "base_uri": "https://localhost:8080/",
          "height": 1000
        },
        "id": "n7Yx0-7b_g-0",
        "outputId": "adce571a-9244-4bcc-842e-93fc8ed1fce6"
      },
      "source": [
        "# group by the state\n",
        "grouped_by_state = df[[\"State\",\n",
        "                       \"Median_Household_Income_2016\", \n",
        "                       \"Unemployment_rate_2016\"]].groupby(\"State\").agg(np.mean)\n",
        "grouped_by_state"
      ],
      "execution_count": null,
      "outputs": [
        {
          "output_type": "execute_result",
          "data": {
            "text/html": [
              "\n",
              "  <div id=\"df-06d473fe-f186-475d-a896-4915636554eb\">\n",
              "    <div class=\"colab-df-container\">\n",
              "      <div>\n",
              "<style scoped>\n",
              "    .dataframe tbody tr th:only-of-type {\n",
              "        vertical-align: middle;\n",
              "    }\n",
              "\n",
              "    .dataframe tbody tr th {\n",
              "        vertical-align: top;\n",
              "    }\n",
              "\n",
              "    .dataframe thead th {\n",
              "        text-align: right;\n",
              "    }\n",
              "</style>\n",
              "<table border=\"1\" class=\"dataframe\">\n",
              "  <thead>\n",
              "    <tr style=\"text-align: right;\">\n",
              "      <th></th>\n",
              "      <th>Median_Household_Income_2016</th>\n",
              "      <th>Unemployment_rate_2016</th>\n",
              "    </tr>\n",
              "    <tr>\n",
              "      <th>State</th>\n",
              "      <th></th>\n",
              "      <th></th>\n",
              "    </tr>\n",
              "  </thead>\n",
              "  <tbody>\n",
              "    <tr>\n",
              "      <th>AK</th>\n",
              "      <td>62153.137931</td>\n",
              "      <td>9.448276</td>\n",
              "    </tr>\n",
              "    <tr>\n",
              "      <th>AL</th>\n",
              "      <td>40636.447761</td>\n",
              "      <td>6.700000</td>\n",
              "    </tr>\n",
              "    <tr>\n",
              "      <th>AR</th>\n",
              "      <td>39233.720000</td>\n",
              "      <td>4.606667</td>\n",
              "    </tr>\n",
              "    <tr>\n",
              "      <th>AZ</th>\n",
              "      <td>45738.200000</td>\n",
              "      <td>7.653333</td>\n",
              "    </tr>\n",
              "    <tr>\n",
              "      <th>CA</th>\n",
              "      <td>60930.103448</td>\n",
              "      <td>6.929310</td>\n",
              "    </tr>\n",
              "    <tr>\n",
              "      <th>CO</th>\n",
              "      <td>54557.312500</td>\n",
              "      <td>3.345312</td>\n",
              "    </tr>\n",
              "    <tr>\n",
              "      <th>CT</th>\n",
              "      <td>74289.500000</td>\n",
              "      <td>5.025000</td>\n",
              "    </tr>\n",
              "    <tr>\n",
              "      <th>DC</th>\n",
              "      <td>74093.000000</td>\n",
              "      <td>6.100000</td>\n",
              "    </tr>\n",
              "    <tr>\n",
              "      <th>DE</th>\n",
              "      <td>59286.000000</td>\n",
              "      <td>4.600000</td>\n",
              "    </tr>\n",
              "    <tr>\n",
              "      <th>FL</th>\n",
              "      <td>47004.268657</td>\n",
              "      <td>5.080597</td>\n",
              "    </tr>\n",
              "    <tr>\n",
              "      <th>GA</th>\n",
              "      <td>44017.540881</td>\n",
              "      <td>6.060377</td>\n",
              "    </tr>\n",
              "    <tr>\n",
              "      <th>HI</th>\n",
              "      <td>66889.750000</td>\n",
              "      <td>3.200000</td>\n",
              "    </tr>\n",
              "    <tr>\n",
              "      <th>IA</th>\n",
              "      <td>54108.747475</td>\n",
              "      <td>3.609091</td>\n",
              "    </tr>\n",
              "    <tr>\n",
              "      <th>ID</th>\n",
              "      <td>48009.840909</td>\n",
              "      <td>4.302273</td>\n",
              "    </tr>\n",
              "    <tr>\n",
              "      <th>IL</th>\n",
              "      <td>52985.500000</td>\n",
              "      <td>6.007843</td>\n",
              "    </tr>\n",
              "    <tr>\n",
              "      <th>IN</th>\n",
              "      <td>52605.619565</td>\n",
              "      <td>4.461957</td>\n",
              "    </tr>\n",
              "    <tr>\n",
              "      <th>KS</th>\n",
              "      <td>49625.485714</td>\n",
              "      <td>3.841905</td>\n",
              "    </tr>\n",
              "    <tr>\n",
              "      <th>KY</th>\n",
              "      <td>42150.533333</td>\n",
              "      <td>6.415833</td>\n",
              "    </tr>\n",
              "    <tr>\n",
              "      <th>LA</th>\n",
              "      <td>42621.687500</td>\n",
              "      <td>6.967187</td>\n",
              "    </tr>\n",
              "    <tr>\n",
              "      <th>MA</th>\n",
              "      <td>70210.642857</td>\n",
              "      <td>4.200000</td>\n",
              "    </tr>\n",
              "    <tr>\n",
              "      <th>MD</th>\n",
              "      <td>70621.125000</td>\n",
              "      <td>4.966667</td>\n",
              "    </tr>\n",
              "    <tr>\n",
              "      <th>ME</th>\n",
              "      <td>49084.562500</td>\n",
              "      <td>4.206250</td>\n",
              "    </tr>\n",
              "    <tr>\n",
              "      <th>MI</th>\n",
              "      <td>47823.542169</td>\n",
              "      <td>6.015663</td>\n",
              "    </tr>\n",
              "    <tr>\n",
              "      <th>MN</th>\n",
              "      <td>57095.517241</td>\n",
              "      <td>4.614943</td>\n",
              "    </tr>\n",
              "    <tr>\n",
              "      <th>MO</th>\n",
              "      <td>43816.313043</td>\n",
              "      <td>5.080000</td>\n",
              "    </tr>\n",
              "    <tr>\n",
              "      <th>MS</th>\n",
              "      <td>37328.426829</td>\n",
              "      <td>6.884146</td>\n",
              "    </tr>\n",
              "    <tr>\n",
              "      <th>MT</th>\n",
              "      <td>46340.928571</td>\n",
              "      <td>4.350000</td>\n",
              "    </tr>\n",
              "    <tr>\n",
              "      <th>NC</th>\n",
              "      <td>45090.210000</td>\n",
              "      <td>5.652000</td>\n",
              "    </tr>\n",
              "    <tr>\n",
              "      <th>ND</th>\n",
              "      <td>55908.433962</td>\n",
              "      <td>3.462264</td>\n",
              "    </tr>\n",
              "    <tr>\n",
              "      <th>NE</th>\n",
              "      <td>50985.225806</td>\n",
              "      <td>3.000000</td>\n",
              "    </tr>\n",
              "    <tr>\n",
              "      <th>NH</th>\n",
              "      <td>63218.400000</td>\n",
              "      <td>2.820000</td>\n",
              "    </tr>\n",
              "    <tr>\n",
              "      <th>NJ</th>\n",
              "      <td>75639.142857</td>\n",
              "      <td>5.333333</td>\n",
              "    </tr>\n",
              "    <tr>\n",
              "      <th>NM</th>\n",
              "      <td>41727.666667</td>\n",
              "      <td>7.109091</td>\n",
              "    </tr>\n",
              "    <tr>\n",
              "      <th>NV</th>\n",
              "      <td>56916.000000</td>\n",
              "      <td>5.664706</td>\n",
              "    </tr>\n",
              "    <tr>\n",
              "      <th>NY</th>\n",
              "      <td>57115.161290</td>\n",
              "      <td>5.112903</td>\n",
              "    </tr>\n",
              "    <tr>\n",
              "      <th>OH</th>\n",
              "      <td>52474.056818</td>\n",
              "      <td>5.482955</td>\n",
              "    </tr>\n",
              "    <tr>\n",
              "      <th>OK</th>\n",
              "      <td>44991.051948</td>\n",
              "      <td>5.300000</td>\n",
              "    </tr>\n",
              "    <tr>\n",
              "      <th>OR</th>\n",
              "      <td>49869.833333</td>\n",
              "      <td>5.491667</td>\n",
              "    </tr>\n",
              "    <tr>\n",
              "      <th>PA</th>\n",
              "      <td>52552.522388</td>\n",
              "      <td>5.916418</td>\n",
              "    </tr>\n",
              "    <tr>\n",
              "      <th>RI</th>\n",
              "      <td>67249.200000</td>\n",
              "      <td>4.860000</td>\n",
              "    </tr>\n",
              "    <tr>\n",
              "      <th>SC</th>\n",
              "      <td>43352.065217</td>\n",
              "      <td>5.836957</td>\n",
              "    </tr>\n",
              "    <tr>\n",
              "      <th>SD</th>\n",
              "      <td>49095.121212</td>\n",
              "      <td>3.471212</td>\n",
              "    </tr>\n",
              "    <tr>\n",
              "      <th>TN</th>\n",
              "      <td>43356.252632</td>\n",
              "      <td>5.546316</td>\n",
              "    </tr>\n",
              "    <tr>\n",
              "      <th>TX</th>\n",
              "      <td>48738.129921</td>\n",
              "      <td>5.119291</td>\n",
              "    </tr>\n",
              "    <tr>\n",
              "      <th>UT</th>\n",
              "      <td>58319.103448</td>\n",
              "      <td>4.824138</td>\n",
              "    </tr>\n",
              "    <tr>\n",
              "      <th>VA</th>\n",
              "      <td>55601.526316</td>\n",
              "      <td>4.739850</td>\n",
              "    </tr>\n",
              "    <tr>\n",
              "      <th>VT</th>\n",
              "      <td>54234.785714</td>\n",
              "      <td>3.650000</td>\n",
              "    </tr>\n",
              "    <tr>\n",
              "      <th>WA</th>\n",
              "      <td>54673.923077</td>\n",
              "      <td>6.530769</td>\n",
              "    </tr>\n",
              "    <tr>\n",
              "      <th>WI</th>\n",
              "      <td>54204.444444</td>\n",
              "      <td>4.404167</td>\n",
              "    </tr>\n",
              "    <tr>\n",
              "      <th>WV</th>\n",
              "      <td>41217.254545</td>\n",
              "      <td>7.090909</td>\n",
              "    </tr>\n",
              "    <tr>\n",
              "      <th>WY</th>\n",
              "      <td>59477.956522</td>\n",
              "      <td>5.008696</td>\n",
              "    </tr>\n",
              "  </tbody>\n",
              "</table>\n",
              "</div>\n",
              "      <button class=\"colab-df-convert\" onclick=\"convertToInteractive('df-06d473fe-f186-475d-a896-4915636554eb')\"\n",
              "              title=\"Convert this dataframe to an interactive table.\"\n",
              "              style=\"display:none;\">\n",
              "        \n",
              "  <svg xmlns=\"http://www.w3.org/2000/svg\" height=\"24px\"viewBox=\"0 0 24 24\"\n",
              "       width=\"24px\">\n",
              "    <path d=\"M0 0h24v24H0V0z\" fill=\"none\"/>\n",
              "    <path d=\"M18.56 5.44l.94 2.06.94-2.06 2.06-.94-2.06-.94-.94-2.06-.94 2.06-2.06.94zm-11 1L8.5 8.5l.94-2.06 2.06-.94-2.06-.94L8.5 2.5l-.94 2.06-2.06.94zm10 10l.94 2.06.94-2.06 2.06-.94-2.06-.94-.94-2.06-.94 2.06-2.06.94z\"/><path d=\"M17.41 7.96l-1.37-1.37c-.4-.4-.92-.59-1.43-.59-.52 0-1.04.2-1.43.59L10.3 9.45l-7.72 7.72c-.78.78-.78 2.05 0 2.83L4 21.41c.39.39.9.59 1.41.59.51 0 1.02-.2 1.41-.59l7.78-7.78 2.81-2.81c.8-.78.8-2.07 0-2.86zM5.41 20L4 18.59l7.72-7.72 1.47 1.35L5.41 20z\"/>\n",
              "  </svg>\n",
              "      </button>\n",
              "      \n",
              "  <style>\n",
              "    .colab-df-container {\n",
              "      display:flex;\n",
              "      flex-wrap:wrap;\n",
              "      gap: 12px;\n",
              "    }\n",
              "\n",
              "    .colab-df-convert {\n",
              "      background-color: #E8F0FE;\n",
              "      border: none;\n",
              "      border-radius: 50%;\n",
              "      cursor: pointer;\n",
              "      display: none;\n",
              "      fill: #1967D2;\n",
              "      height: 32px;\n",
              "      padding: 0 0 0 0;\n",
              "      width: 32px;\n",
              "    }\n",
              "\n",
              "    .colab-df-convert:hover {\n",
              "      background-color: #E2EBFA;\n",
              "      box-shadow: 0px 1px 2px rgba(60, 64, 67, 0.3), 0px 1px 3px 1px rgba(60, 64, 67, 0.15);\n",
              "      fill: #174EA6;\n",
              "    }\n",
              "\n",
              "    [theme=dark] .colab-df-convert {\n",
              "      background-color: #3B4455;\n",
              "      fill: #D2E3FC;\n",
              "    }\n",
              "\n",
              "    [theme=dark] .colab-df-convert:hover {\n",
              "      background-color: #434B5C;\n",
              "      box-shadow: 0px 1px 3px 1px rgba(0, 0, 0, 0.15);\n",
              "      filter: drop-shadow(0px 1px 2px rgba(0, 0, 0, 0.3));\n",
              "      fill: #FFFFFF;\n",
              "    }\n",
              "  </style>\n",
              "\n",
              "      <script>\n",
              "        const buttonEl =\n",
              "          document.querySelector('#df-06d473fe-f186-475d-a896-4915636554eb button.colab-df-convert');\n",
              "        buttonEl.style.display =\n",
              "          google.colab.kernel.accessAllowed ? 'block' : 'none';\n",
              "\n",
              "        async function convertToInteractive(key) {\n",
              "          const element = document.querySelector('#df-06d473fe-f186-475d-a896-4915636554eb');\n",
              "          const dataTable =\n",
              "            await google.colab.kernel.invokeFunction('convertToInteractive',\n",
              "                                                     [key], {});\n",
              "          if (!dataTable) return;\n",
              "\n",
              "          const docLinkHtml = 'Like what you see? Visit the ' +\n",
              "            '<a target=\"_blank\" href=https://colab.research.google.com/notebooks/data_table.ipynb>data table notebook</a>'\n",
              "            + ' to learn more about interactive tables.';\n",
              "          element.innerHTML = '';\n",
              "          dataTable['output_type'] = 'display_data';\n",
              "          await google.colab.output.renderOutput(dataTable, element);\n",
              "          const docLink = document.createElement('div');\n",
              "          docLink.innerHTML = docLinkHtml;\n",
              "          element.appendChild(docLink);\n",
              "        }\n",
              "      </script>\n",
              "    </div>\n",
              "  </div>\n",
              "  "
            ],
            "text/plain": [
              "       Median_Household_Income_2016  Unemployment_rate_2016\n",
              "State                                                      \n",
              "AK                     62153.137931                9.448276\n",
              "AL                     40636.447761                6.700000\n",
              "AR                     39233.720000                4.606667\n",
              "AZ                     45738.200000                7.653333\n",
              "CA                     60930.103448                6.929310\n",
              "CO                     54557.312500                3.345312\n",
              "CT                     74289.500000                5.025000\n",
              "DC                     74093.000000                6.100000\n",
              "DE                     59286.000000                4.600000\n",
              "FL                     47004.268657                5.080597\n",
              "GA                     44017.540881                6.060377\n",
              "HI                     66889.750000                3.200000\n",
              "IA                     54108.747475                3.609091\n",
              "ID                     48009.840909                4.302273\n",
              "IL                     52985.500000                6.007843\n",
              "IN                     52605.619565                4.461957\n",
              "KS                     49625.485714                3.841905\n",
              "KY                     42150.533333                6.415833\n",
              "LA                     42621.687500                6.967187\n",
              "MA                     70210.642857                4.200000\n",
              "MD                     70621.125000                4.966667\n",
              "ME                     49084.562500                4.206250\n",
              "MI                     47823.542169                6.015663\n",
              "MN                     57095.517241                4.614943\n",
              "MO                     43816.313043                5.080000\n",
              "MS                     37328.426829                6.884146\n",
              "MT                     46340.928571                4.350000\n",
              "NC                     45090.210000                5.652000\n",
              "ND                     55908.433962                3.462264\n",
              "NE                     50985.225806                3.000000\n",
              "NH                     63218.400000                2.820000\n",
              "NJ                     75639.142857                5.333333\n",
              "NM                     41727.666667                7.109091\n",
              "NV                     56916.000000                5.664706\n",
              "NY                     57115.161290                5.112903\n",
              "OH                     52474.056818                5.482955\n",
              "OK                     44991.051948                5.300000\n",
              "OR                     49869.833333                5.491667\n",
              "PA                     52552.522388                5.916418\n",
              "RI                     67249.200000                4.860000\n",
              "SC                     43352.065217                5.836957\n",
              "SD                     49095.121212                3.471212\n",
              "TN                     43356.252632                5.546316\n",
              "TX                     48738.129921                5.119291\n",
              "UT                     58319.103448                4.824138\n",
              "VA                     55601.526316                4.739850\n",
              "VT                     54234.785714                3.650000\n",
              "WA                     54673.923077                6.530769\n",
              "WI                     54204.444444                4.404167\n",
              "WV                     41217.254545                7.090909\n",
              "WY                     59477.956522                5.008696"
            ]
          },
          "metadata": {},
          "execution_count": 7
        }
      ]
    },
    {
      "cell_type": "code",
      "metadata": {
        "colab": {
          "base_uri": "https://localhost:8080/",
          "height": 312
        },
        "id": "fGsRV2VD_bGG",
        "outputId": "eb1e6f08-7280-4e57-dee1-4ea078c82163"
      },
      "source": [
        "plt.scatter(grouped_by_state[\"Median_Household_Income_2016\"], \n",
        "                       grouped_by_state[\"Unemployment_rate_2016\"])\n",
        "plt.xlabel(\"Median Household Income\")\n",
        "plt.ylabel(\"Unemployment Rate\")\n",
        "plt.title(\"United States Income vs. Unemployment in 2016\")"
      ],
      "execution_count": null,
      "outputs": [
        {
          "output_type": "execute_result",
          "data": {
            "text/plain": [
              "Text(0.5, 1.0, 'United States Income vs. Unemployment in 2016')"
            ]
          },
          "metadata": {},
          "execution_count": 8
        },
        {
          "output_type": "display_data",
          "data": {
            "image/png": "[encoded data removed]",
            "text/plain": [
              "<Figure size 432x288 with 1 Axes>"
            ]
          },
          "metadata": {
            "needs_background": "light"
          }
        }
      ]
    },
    {
      "cell_type": "markdown",
      "metadata": {
        "id": "JWBjqdmu_uPp"
      },
      "source": [
        "The median household income seems somewhat correlated, but not as direct as California.\n",
        "\n",
        "**Discussion:**  what factors do you think could contribute to this relationship? "
      ]
    },
    {
      "cell_type": "markdown",
      "metadata": {
        "id": "2w1huDFy_vQ_"
      },
      "source": [
        "Let's individually look at the highest median household incomes\n",
        "\n",
        "\n",
        "\n"
      ]
    },
    {
      "cell_type": "code",
      "metadata": {
        "colab": {
          "base_uri": "https://localhost:8080/",
          "height": 183
        },
        "id": "Uj5hBUgZ_zaf",
        "outputId": "5252669d-2769-4fef-b9e6-c3361c47db7f"
      },
      "source": [
        "highest_income = grouped_by_state.sort_values(by=\"Median_Household_Income_2016\", ascending=False).head(10)\n",
        "highest_income"
      ],
      "execution_count": null,
      "outputs": [
        {
          "output_type": "error",
          "ename": "NameError",
          "evalue": "ignored",
          "traceback": [
            "\u001b[0;31m---------------------------------------------------------------------------\u001b[0m",
            "\u001b[0;31mNameError\u001b[0m                                 Traceback (most recent call last)",
            "\u001b[0;32m<ipython-input-1-269d37b3603f>\u001b[0m in \u001b[0;36m<module>\u001b[0;34m()\u001b[0m\n\u001b[0;32m----> 1\u001b[0;31m \u001b[0mhighest_income\u001b[0m \u001b[0;34m=\u001b[0m \u001b[0mgrouped_by_state\u001b[0m\u001b[0;34m.\u001b[0m\u001b[0msort_values\u001b[0m\u001b[0;34m(\u001b[0m\u001b[0mby\u001b[0m\u001b[0;34m=\u001b[0m\u001b[0;34m\"Median_Household_Income_2016\"\u001b[0m\u001b[0;34m,\u001b[0m \u001b[0mascending\u001b[0m\u001b[0;34m=\u001b[0m\u001b[0;32mFalse\u001b[0m\u001b[0;34m)\u001b[0m\u001b[0;34m.\u001b[0m\u001b[0mhead\u001b[0m\u001b[0;34m(\u001b[0m\u001b[0;36m10\u001b[0m\u001b[0;34m)\u001b[0m\u001b[0;34m\u001b[0m\u001b[0;34m\u001b[0m\u001b[0m\n\u001b[0m\u001b[1;32m      2\u001b[0m \u001b[0mhighest_income\u001b[0m\u001b[0;34m\u001b[0m\u001b[0;34m\u001b[0m\u001b[0m\n",
            "\u001b[0;31mNameError\u001b[0m: name 'grouped_by_state' is not defined"
          ]
        }
      ]
    },
    {
      "cell_type": "code",
      "metadata": {
        "colab": {
          "base_uri": "https://localhost:8080/",
          "height": 303
        },
        "id": "uSPxno7U_1hQ",
        "outputId": "501c5114-86df-4d6e-cf61-d124efaf7b5f"
      },
      "source": [
        "highest_income.plot.bar(y=\"Median_Household_Income_2016\")"
      ],
      "execution_count": null,
      "outputs": [
        {
          "output_type": "execute_result",
          "data": {
            "text/plain": [
              "<matplotlib.axes._subplots.AxesSubplot at 0x7f22a4114210>"
            ]
          },
          "metadata": {},
          "execution_count": 10
        },
        {
          "output_type": "display_data",
          "data": {
            "image/png": "[encoded data removed]",
            "text/plain": [
              "<Figure size 432x288 with 1 Axes>"
            ]
          },
          "metadata": {
            "needs_background": "light"
          }
        }
      ]
    },
    {
      "cell_type": "markdown",
      "metadata": {
        "id": "XJcHtCZo_8hj"
      },
      "source": [
        "Now, let's look at the top 10 lowest unemployment rates and see if it matches up."
      ]
    },
    {
      "cell_type": "code",
      "metadata": {
        "colab": {
          "base_uri": "https://localhost:8080/",
          "height": 390
        },
        "id": "IhbAAe8Y_9XP",
        "outputId": "d079fd02-ef7f-485b-f6be-c999414a7ae7"
      },
      "source": [
        "lowest_unemployment = grouped_by_state.sort_values(by=\"Unemployment_rate_2016\").head(10)\n",
        "lowest_unemployment"
      ],
      "execution_count": null,
      "outputs": [
        {
          "output_type": "execute_result",
          "data": {
            "text/html": [
              "\n",
              "  <div id=\"df-3959405f-d05f-4f7b-86d4-2e30e17ff518\">\n",
              "    <div class=\"colab-df-container\">\n",
              "      <div>\n",
              "<style scoped>\n",
              "    .dataframe tbody tr th:only-of-type {\n",
              "        vertical-align: middle;\n",
              "    }\n",
              "\n",
              "    .dataframe tbody tr th {\n",
              "        vertical-align: top;\n",
              "    }\n",
              "\n",
              "    .dataframe thead th {\n",
              "        text-align: right;\n",
              "    }\n",
              "</style>\n",
              "<table border=\"1\" class=\"dataframe\">\n",
              "  <thead>\n",
              "    <tr style=\"text-align: right;\">\n",
              "      <th></th>\n",
              "      <th>Median_Household_Income_2016</th>\n",
              "      <th>Unemployment_rate_2016</th>\n",
              "    </tr>\n",
              "    <tr>\n",
              "      <th>State</th>\n",
              "      <th></th>\n",
              "      <th></th>\n",
              "    </tr>\n",
              "  </thead>\n",
              "  <tbody>\n",
              "    <tr>\n",
              "      <th>NH</th>\n",
              "      <td>63218.400000</td>\n",
              "      <td>2.820000</td>\n",
              "    </tr>\n",
              "    <tr>\n",
              "      <th>NE</th>\n",
              "      <td>50985.225806</td>\n",
              "      <td>3.000000</td>\n",
              "    </tr>\n",
              "    <tr>\n",
              "      <th>HI</th>\n",
              "      <td>66889.750000</td>\n",
              "      <td>3.200000</td>\n",
              "    </tr>\n",
              "    <tr>\n",
              "      <th>CO</th>\n",
              "      <td>54557.312500</td>\n",
              "      <td>3.345312</td>\n",
              "    </tr>\n",
              "    <tr>\n",
              "      <th>ND</th>\n",
              "      <td>55908.433962</td>\n",
              "      <td>3.462264</td>\n",
              "    </tr>\n",
              "    <tr>\n",
              "      <th>SD</th>\n",
              "      <td>49095.121212</td>\n",
              "      <td>3.471212</td>\n",
              "    </tr>\n",
              "    <tr>\n",
              "      <th>IA</th>\n",
              "      <td>54108.747475</td>\n",
              "      <td>3.609091</td>\n",
              "    </tr>\n",
              "    <tr>\n",
              "      <th>VT</th>\n",
              "      <td>54234.785714</td>\n",
              "      <td>3.650000</td>\n",
              "    </tr>\n",
              "    <tr>\n",
              "      <th>KS</th>\n",
              "      <td>49625.485714</td>\n",
              "      <td>3.841905</td>\n",
              "    </tr>\n",
              "    <tr>\n",
              "      <th>MA</th>\n",
              "      <td>70210.642857</td>\n",
              "      <td>4.200000</td>\n",
              "    </tr>\n",
              "  </tbody>\n",
              "</table>\n",
              "</div>\n",
              "      <button class=\"colab-df-convert\" onclick=\"convertToInteractive('df-3959405f-d05f-4f7b-86d4-2e30e17ff518')\"\n",
              "              title=\"Convert this dataframe to an interactive table.\"\n",
              "              style=\"display:none;\">\n",
              "        \n",
              "  <svg xmlns=\"http://www.w3.org/2000/svg\" height=\"24px\"viewBox=\"0 0 24 24\"\n",
              "       width=\"24px\">\n",
              "    <path d=\"M0 0h24v24H0V0z\" fill=\"none\"/>\n",
              "    <path d=\"M18.56 5.44l.94 2.06.94-2.06 2.06-.94-2.06-.94-.94-2.06-.94 2.06-2.06.94zm-11 1L8.5 8.5l.94-2.06 2.06-.94-2.06-.94L8.5 2.5l-.94 2.06-2.06.94zm10 10l.94 2.06.94-2.06 2.06-.94-2.06-.94-.94-2.06-.94 2.06-2.06.94z\"/><path d=\"M17.41 7.96l-1.37-1.37c-.4-.4-.92-.59-1.43-.59-.52 0-1.04.2-1.43.59L10.3 9.45l-7.72 7.72c-.78.78-.78 2.05 0 2.83L4 21.41c.39.39.9.59 1.41.59.51 0 1.02-.2 1.41-.59l7.78-7.78 2.81-2.81c.8-.78.8-2.07 0-2.86zM5.41 20L4 18.59l7.72-7.72 1.47 1.35L5.41 20z\"/>\n",
              "  </svg>\n",
              "      </button>\n",
              "      \n",
              "  <style>\n",
              "    .colab-df-container {\n",
              "      display:flex;\n",
              "      flex-wrap:wrap;\n",
              "      gap: 12px;\n",
              "    }\n",
              "\n",
              "    .colab-df-convert {\n",
              "      background-color: #E8F0FE;\n",
              "      border: none;\n",
              "      border-radius: 50%;\n",
              "      cursor: pointer;\n",
              "      display: none;\n",
              "      fill: #1967D2;\n",
              "      height: 32px;\n",
              "      padding: 0 0 0 0;\n",
              "      width: 32px;\n",
              "    }\n",
              "\n",
              "    .colab-df-convert:hover {\n",
              "      background-color: #E2EBFA;\n",
              "      box-shadow: 0px 1px 2px rgba(60, 64, 67, 0.3), 0px 1px 3px 1px rgba(60, 64, 67, 0.15);\n",
              "      fill: #174EA6;\n",
              "    }\n",
              "\n",
              "    [theme=dark] .colab-df-convert {\n",
              "      background-color: #3B4455;\n",
              "      fill: #D2E3FC;\n",
              "    }\n",
              "\n",
              "    [theme=dark] .colab-df-convert:hover {\n",
              "      background-color: #434B5C;\n",
              "      box-shadow: 0px 1px 3px 1px rgba(0, 0, 0, 0.15);\n",
              "      filter: drop-shadow(0px 1px 2px rgba(0, 0, 0, 0.3));\n",
              "      fill: #FFFFFF;\n",
              "    }\n",
              "  </style>\n",
              "\n",
              "      <script>\n",
              "        const buttonEl =\n",
              "          document.querySelector('#df-3959405f-d05f-4f7b-86d4-2e30e17ff518 button.colab-df-convert');\n",
              "        buttonEl.style.display =\n",
              "          google.colab.kernel.accessAllowed ? 'block' : 'none';\n",
              "\n",
              "        async function convertToInteractive(key) {\n",
              "          const element = document.querySelector('#df-3959405f-d05f-4f7b-86d4-2e30e17ff518');\n",
              "          const dataTable =\n",
              "            await google.colab.kernel.invokeFunction('convertToInteractive',\n",
              "                                                     [key], {});\n",
              "          if (!dataTable) return;\n",
              "\n",
              "          const docLinkHtml = 'Like what you see? Visit the ' +\n",
              "            '<a target=\"_blank\" href=https://colab.research.google.com/notebooks/data_table.ipynb>data table notebook</a>'\n",
              "            + ' to learn more about interactive tables.';\n",
              "          element.innerHTML = '';\n",
              "          dataTable['output_type'] = 'display_data';\n",
              "          await google.colab.output.renderOutput(dataTable, element);\n",
              "          const docLink = document.createElement('div');\n",
              "          docLink.innerHTML = docLinkHtml;\n",
              "          element.appendChild(docLink);\n",
              "        }\n",
              "      </script>\n",
              "    </div>\n",
              "  </div>\n",
              "  "
            ],
            "text/plain": [
              "       Median_Household_Income_2016  Unemployment_rate_2016\n",
              "State                                                      \n",
              "NH                     63218.400000                2.820000\n",
              "NE                     50985.225806                3.000000\n",
              "HI                     66889.750000                3.200000\n",
              "CO                     54557.312500                3.345312\n",
              "ND                     55908.433962                3.462264\n",
              "SD                     49095.121212                3.471212\n",
              "IA                     54108.747475                3.609091\n",
              "VT                     54234.785714                3.650000\n",
              "KS                     49625.485714                3.841905\n",
              "MA                     70210.642857                4.200000"
            ]
          },
          "metadata": {},
          "execution_count": 11
        }
      ]
    },
    {
      "cell_type": "code",
      "metadata": {
        "colab": {
          "base_uri": "https://localhost:8080/",
          "height": 302
        },
        "id": "9_4GykuzABbG",
        "outputId": "13bf1738-6fe5-4715-f008-a1b5515017c7"
      },
      "source": [
        "lowest_unemployment.plot.bar(y=\"Unemployment_rate_2016\")"
      ],
      "execution_count": null,
      "outputs": [
        {
          "output_type": "execute_result",
          "data": {
            "text/plain": [
              "<matplotlib.axes._subplots.AxesSubplot at 0x7f22a40aed50>"
            ]
          },
          "metadata": {},
          "execution_count": 12
        },
        {
          "output_type": "display_data",
          "data": {
            "image/png": "[encoded data removed]",
            "text/plain": [
              "<Figure size 432x288 with 1 Axes>"
            ]
          },
          "metadata": {
            "needs_background": "light"
          }
        }
      ]
    },
    {
      "cell_type": "markdown",
      "metadata": {
        "id": "fB4D0BT-MCUz"
      },
      "source": [
        "**Mini-task #2** Let's look at NJ since it has the highest median household income and create a bar chart of the top 10 counties with the highest unemployment rates!"
      ]
    },
    {
      "cell_type": "code",
      "metadata": {
        "id": "atlt9zmaMF0p"
      },
      "source": [
        ""
      ],
      "execution_count": null,
      "outputs": []
    },
    {
      "cell_type": "markdown",
      "metadata": {
        "id": "Ut9tbe6EACTf"
      },
      "source": [
        "**Discusssion:** what conclusions could we come up with from this data?"
      ]
    },
    {
      "cell_type": "markdown",
      "metadata": {
        "id": "7fCcFVWfu0MO"
      },
      "source": [
        "##Other Types of Visualizations Using Matplotlib (written by Gloria Zhang and Isabella Borkovic)\n",
        "\n",
        "Besides looking at scatter plots and bar charts, we will also introduce several other plots that will be helpful depending on what type of data you are analyzing. Let's look at it more generally. "
      ]
    },
    {
      "cell_type": "markdown",
      "metadata": {
        "id": "H6foVlebvqTI"
      },
      "source": [
        "Line Plot\n",
        "\n",
        "For this example, we'll be using a very simple data set just to show you the syntax since the original dataset does not have any factors that can be best compared linearly (as opposed to bar chart or scatter plots). There are additional optional parameters which can be found [here](https://matplotlib.org/3.3.3/api/_as_gen/matplotlib.pyplot.plot.html#matplotlib.pyplot.plot)."
      ]
    },
    {
      "cell_type": "code",
      "metadata": {
        "colab": {
          "base_uri": "https://localhost:8080/",
          "height": 173
        },
        "id": "CQ-oFGOBlyBQ",
        "outputId": "615d1809-bc68-445e-a5ea-63b24b1e4980"
      },
      "source": [
        "#This is the simple dataset we will work with. \n",
        "dict_line = {\n",
        "    'Weeks': [1,3,5,7], \n",
        "    'Money Earned': [100,225,330,600]\n",
        "}\n",
        "df_line = pd.DataFrame(dict_line)\n",
        "df_line"
      ],
      "execution_count": null,
      "outputs": [
        {
          "output_type": "execute_result",
          "data": {
            "text/html": [
              "\n",
              "  <div id=\"df-1767b45e-d0f9-4cb1-9a48-a42432039c99\">\n",
              "    <div class=\"colab-df-container\">\n",
              "      <div>\n",
              "<style scoped>\n",
              "    .dataframe tbody tr th:only-of-type {\n",
              "        vertical-align: middle;\n",
              "    }\n",
              "\n",
              "    .dataframe tbody tr th {\n",
              "        vertical-align: top;\n",
              "    }\n",
              "\n",
              "    .dataframe thead th {\n",
              "        text-align: right;\n",
              "    }\n",
              "</style>\n",
              "<table border=\"1\" class=\"dataframe\">\n",
              "  <thead>\n",
              "    <tr style=\"text-align: right;\">\n",
              "      <th></th>\n",
              "      <th>Weeks</th>\n",
              "      <th>Money Earned</th>\n",
              "    </tr>\n",
              "  </thead>\n",
              "  <tbody>\n",
              "    <tr>\n",
              "      <th>0</th>\n",
              "      <td>1</td>\n",
              "      <td>100</td>\n",
              "    </tr>\n",
              "    <tr>\n",
              "      <th>1</th>\n",
              "      <td>3</td>\n",
              "      <td>225</td>\n",
              "    </tr>\n",
              "    <tr>\n",
              "      <th>2</th>\n",
              "      <td>5</td>\n",
              "      <td>330</td>\n",
              "    </tr>\n",
              "    <tr>\n",
              "      <th>3</th>\n",
              "      <td>7</td>\n",
              "      <td>600</td>\n",
              "    </tr>\n",
              "  </tbody>\n",
              "</table>\n",
              "</div>\n",
              "      <button class=\"colab-df-convert\" onclick=\"convertToInteractive('df-1767b45e-d0f9-4cb1-9a48-a42432039c99')\"\n",
              "              title=\"Convert this dataframe to an interactive table.\"\n",
              "              style=\"display:none;\">\n",
              "        \n",
              "  <svg xmlns=\"http://www.w3.org/2000/svg\" height=\"24px\"viewBox=\"0 0 24 24\"\n",
              "       width=\"24px\">\n",
              "    <path d=\"M0 0h24v24H0V0z\" fill=\"none\"/>\n",
              "    <path d=\"M18.56 5.44l.94 2.06.94-2.06 2.06-.94-2.06-.94-.94-2.06-.94 2.06-2.06.94zm-11 1L8.5 8.5l.94-2.06 2.06-.94-2.06-.94L8.5 2.5l-.94 2.06-2.06.94zm10 10l.94 2.06.94-2.06 2.06-.94-2.06-.94-.94-2.06-.94 2.06-2.06.94z\"/><path d=\"M17.41 7.96l-1.37-1.37c-.4-.4-.92-.59-1.43-.59-.52 0-1.04.2-1.43.59L10.3 9.45l-7.72 7.72c-.78.78-.78 2.05 0 2.83L4 21.41c.39.39.9.59 1.41.59.51 0 1.02-.2 1.41-.59l7.78-7.78 2.81-2.81c.8-.78.8-2.07 0-2.86zM5.41 20L4 18.59l7.72-7.72 1.47 1.35L5.41 20z\"/>\n",
              "  </svg>\n",
              "      </button>\n",
              "      \n",
              "  <style>\n",
              "    .colab-df-container {\n",
              "      display:flex;\n",
              "      flex-wrap:wrap;\n",
              "      gap: 12px;\n",
              "    }\n",
              "\n",
              "    .colab-df-convert {\n",
              "      background-color: #E8F0FE;\n",
              "      border: none;\n",
              "      border-radius: 50%;\n",
              "      cursor: pointer;\n",
              "      display: none;\n",
              "      fill: #1967D2;\n",
              "      height: 32px;\n",
              "      padding: 0 0 0 0;\n",
              "      width: 32px;\n",
              "    }\n",
              "\n",
              "    .colab-df-convert:hover {\n",
              "      background-color: #E2EBFA;\n",
              "      box-shadow: 0px 1px 2px rgba(60, 64, 67, 0.3), 0px 1px 3px 1px rgba(60, 64, 67, 0.15);\n",
              "      fill: #174EA6;\n",
              "    }\n",
              "\n",
              "    [theme=dark] .colab-df-convert {\n",
              "      background-color: #3B4455;\n",
              "      fill: #D2E3FC;\n",
              "    }\n",
              "\n",
              "    [theme=dark] .colab-df-convert:hover {\n",
              "      background-color: #434B5C;\n",
              "      box-shadow: 0px 1px 3px 1px rgba(0, 0, 0, 0.15);\n",
              "      filter: drop-shadow(0px 1px 2px rgba(0, 0, 0, 0.3));\n",
              "      fill: #FFFFFF;\n",
              "    }\n",
              "  </style>\n",
              "\n",
              "      <script>\n",
              "        const buttonEl =\n",
              "          document.querySelector('#df-1767b45e-d0f9-4cb1-9a48-a42432039c99 button.colab-df-convert');\n",
              "        buttonEl.style.display =\n",
              "          google.colab.kernel.accessAllowed ? 'block' : 'none';\n",
              "\n",
              "        async function convertToInteractive(key) {\n",
              "          const element = document.querySelector('#df-1767b45e-d0f9-4cb1-9a48-a42432039c99');\n",
              "          const dataTable =\n",
              "            await google.colab.kernel.invokeFunction('convertToInteractive',\n",
              "                                                     [key], {});\n",
              "          if (!dataTable) return;\n",
              "\n",
              "          const docLinkHtml = 'Like what you see? Visit the ' +\n",
              "            '<a target=\"_blank\" href=https://colab.research.google.com/notebooks/data_table.ipynb>data table notebook</a>'\n",
              "            + ' to learn more about interactive tables.';\n",
              "          element.innerHTML = '';\n",
              "          dataTable['output_type'] = 'display_data';\n",
              "          await google.colab.output.renderOutput(dataTable, element);\n",
              "          const docLink = document.createElement('div');\n",
              "          docLink.innerHTML = docLinkHtml;\n",
              "          element.appendChild(docLink);\n",
              "        }\n",
              "      </script>\n",
              "    </div>\n",
              "  </div>\n",
              "  "
            ],
            "text/plain": [
              "   Weeks  Money Earned\n",
              "0      1           100\n",
              "1      3           225\n",
              "2      5           330\n",
              "3      7           600"
            ]
          },
          "metadata": {},
          "execution_count": 14
        }
      ]
    },
    {
      "cell_type": "code",
      "metadata": {
        "colab": {
          "base_uri": "https://localhost:8080/",
          "height": 312
        },
        "id": "Rnwd4HEJndKj",
        "outputId": "54cddc0d-2f72-45c7-d6c9-221620982ce0"
      },
      "source": [
        "#Here is its linear representation. \n",
        "plt.plot(df_line['Weeks'],df_line['Money Earned'])\n",
        "plt.xlabel(\"Weeks\")\n",
        "plt.ylabel(\"Money Earned\")\n",
        "plt.title(\"Money Earned over 7 Weeks\")"
      ],
      "execution_count": null,
      "outputs": [
        {
          "output_type": "execute_result",
          "data": {
            "text/plain": [
              "Text(0.5, 1.0, 'Money Earned over 7 Weeks')"
            ]
          },
          "metadata": {},
          "execution_count": 15
        },
        {
          "output_type": "display_data",
          "data": {
            "image/png": "[encoded data removed]",
            "text/plain": [
              "<Figure size 432x288 with 1 Axes>"
            ]
          },
          "metadata": {
            "needs_background": "light"
          }
        }
      ]
    },
    {
      "cell_type": "markdown",
      "metadata": {
        "id": "jU_sSMkzwwHq"
      },
      "source": [
        "Histogram\n",
        "\n",
        "Below is the most simplified use of plt.hist but there are also additional parameters you can input such as bins (width of the bins), range, density as a boolean(so that the area under the curve is 1), weights (instead of 1), etc. Documentation can be found [here](https://matplotlib.org/3.3.3/api/_as_gen/matplotlib.pyplot.hist.html#matplotlib.pyplot.hist) "
      ]
    },
    {
      "cell_type": "code",
      "metadata": {
        "colab": {
          "base_uri": "https://localhost:8080/",
          "height": 350
        },
        "id": "QR6f1hrswxGv",
        "outputId": "2a13a734-e769-460a-cfef-0d753512d8d4"
      },
      "source": [
        "#For this histogram, we'll plot the median household income in 2016. \n",
        "plt.hist(df['Median_Household_Income_2016'])"
      ],
      "execution_count": null,
      "outputs": [
        {
          "output_type": "execute_result",
          "data": {
            "text/plain": [
              "(array([1.580e+02, 1.037e+03, 1.202e+03, 4.780e+02, 1.490e+02, 7.100e+01,\n",
              "        2.800e+01, 1.100e+01, 6.000e+00, 1.000e+00]),\n",
              " array([ 22045. ,  33301.4,  44557.8,  55814.2,  67070.6,  78327. ,\n",
              "         89583.4, 100839.8, 112096.2, 123352.6, 134609. ]),\n",
              " <a list of 10 Patch objects>)"
            ]
          },
          "metadata": {},
          "execution_count": 16
        },
        {
          "output_type": "display_data",
          "data": {
            "image/png": "[encoded data removed]",
            "text/plain": [
              "<Figure size 432x288 with 1 Axes>"
            ]
          },
          "metadata": {
            "needs_background": "light"
          }
        }
      ]
    },
    {
      "cell_type": "markdown",
      "metadata": {
        "id": "xhWG1LIBwxVm"
      },
      "source": [
        "Pie Charts\n",
        "\n",
        "Once again, there are additional optional parameters such as setting the color, the radius, whether the data is displayed clockwise or counterclockwise, whether to normalize the data so the sum is 1, etc. The documentation can be found [here](https://matplotlib.org/3.3.3/api/_as_gen/matplotlib.pyplot.pie.html#matplotlib.pyplot.pie)."
      ]
    },
    {
      "cell_type": "code",
      "metadata": {
        "colab": {
          "base_uri": "https://localhost:8080/",
          "height": 520
        },
        "id": "SNtMdv3Vw46S",
        "outputId": "f1cd494f-e0f7-45f9-88bf-903e9625813d"
      },
      "source": [
        "#We will use a pie chart to visualize the makeup of different states in the counties with the 20 lowest unemployment rates.\n",
        "lowest_unemployment_20 = df.sort_values(by=\"Unemployment_rate_2016\").head(20)\n",
        "consolidated = lowest_unemployment_20['State'].value_counts()\n",
        "plt.pie(consolidated,labels=consolidated.index.tolist()) #input for labels is a list of states"
      ],
      "execution_count": null,
      "outputs": [
        {
          "output_type": "execute_result",
          "data": {
            "text/plain": [
              "([<matplotlib.patches.Wedge at 0x7f22a3e11690>,\n",
              "  <matplotlib.patches.Wedge at 0x7f22a3e11ad0>,\n",
              "  <matplotlib.patches.Wedge at 0x7f22a3e1b110>,\n",
              "  <matplotlib.patches.Wedge at 0x7f22a3e1b1d0>,\n",
              "  <matplotlib.patches.Wedge at 0x7f22a3e1bfd0>,\n",
              "  <matplotlib.patches.Wedge at 0x7f22a3e27690>,\n",
              "  <matplotlib.patches.Wedge at 0x7f22a3e273d0>,\n",
              "  <matplotlib.patches.Wedge at 0x7f22a3e27a50>],\n",
              " [Text(0.4993895680663529, 0.9801071672559597, 'CO'),\n",
              "  Text(-1.046162158377023, 0.3399187231970734, 'NE'),\n",
              "  Text(-0.7778174593052025, -0.7778174593052023, 'ND'),\n",
              "  Text(2.5747357732524542e-08, -1.0999999999999999, 'TX'),\n",
              "  Text(0.4993895795368844, -0.9801071614114316, 'MT'),\n",
              "  Text(0.7778174866143991, -0.7778174319960045, 'IA'),\n",
              "  Text(0.9801071964785992, -0.4993895107136921, 'KS'),\n",
              "  Text(1.0864571823074214, -0.17207786322655924, 'SD')])"
            ]
          },
          "metadata": {},
          "execution_count": 17
        },
        {
          "output_type": "display_data",
          "data": {
            "image/png": "[encoded data removed]",
            "text/plain": [
              "<Figure size 432x288 with 1 Axes>"
            ]
          },
          "metadata": {}
        }
      ]
    },
    {
      "cell_type": "markdown",
      "metadata": {
        "id": "at9mPhzI4fPp"
      },
      "source": [
        "Here is a [link](https://www.machinelearningplus.com/plots/matplotlib-tutorial-complete-guide-python-plot-examples/) to other plotting options as well as a broad [list](https://matplotlib.org/3.3.3/tutorials/introductory/sample_plots.html) from matplotlib.org for further exploration."
      ]
    },
    {
      "cell_type": "markdown",
      "metadata": {
        "id": "BYUJPIXsxZZz"
      },
      "source": [
        "##Task\n",
        "Notebook Task: Given the dataset of income, unemployment, and labor force statistics, what are some other patterns between states, counties, unemployment rate, median income, and more? Analyze this data visually and come up with more conclusions/interesting observations. \n"
      ]
    },
    {
      "cell_type": "code",
      "metadata": {
        "id": "VjxWdYJiohsa"
      },
      "source": [
        ""
      ],
      "execution_count": null,
      "outputs": []
    },
    {
      "cell_type": "code",
      "metadata": {
        "id": "l7hYUdPGKeD6"
      },
      "source": [
        ""
      ],
      "execution_count": null,
      "outputs": []
    },
    {
      "cell_type": "markdown",
      "source": [
        ""
      ],
      "metadata": {
        "id": "8N7Pp-V9wy9J"
      }
    },
    {
      "cell_type": "code",
      "metadata": {
        "id": "inm81YxBKeK5"
      },
      "source": [
        ""
      ],
      "execution_count": null,
      "outputs": []
    },
    {
      "cell_type": "markdown",
      "metadata": {
        "id": "YdojBPBMKecK"
      },
      "source": [
        "##Project Task (created by Jon Sulit and Stanley Kwon)\n",
        "\n",
        "For the last two weeks, we explored Python and its various libraries for analyzing data. This week, we want you to spend some time analyzing our healthcare providers dataset using what you learned! Try manipulating the dataset and create **TWO** visualizations that tell us something interesting about the data (some ideas are graphing the average medicare payment amount by number of services or by gender). To make sure that you can read in the dataset on your end, you might have to download it and drop it in the files tab on the left."
      ]
    },
    {
      "cell_type": "code",
      "metadata": {
        "id": "TqrfK5nBKjSX",
        "colab": {
          "base_uri": "https://localhost:8080/",
          "height": 187
        },
        "outputId": "1622d4d0-c25f-4763-bcf4-f8a352ebf696"
      },
      "source": [
        "df = pd.read_csv(\"Healthcare Providers.csv\")\n",
        "df"
      ],
      "execution_count": null,
      "outputs": [
        {
          "output_type": "error",
          "ename": "NameError",
          "evalue": "ignored",
          "traceback": [
            "\u001b[0;31m---------------------------------------------------------------------------\u001b[0m",
            "\u001b[0;31mNameError\u001b[0m                                 Traceback (most recent call last)",
            "\u001b[0;32m<ipython-input-2-ab63fe9e628f>\u001b[0m in \u001b[0;36m<module>\u001b[0;34m()\u001b[0m\n\u001b[0;32m----> 1\u001b[0;31m \u001b[0mdf\u001b[0m \u001b[0;34m=\u001b[0m \u001b[0mpd\u001b[0m\u001b[0;34m.\u001b[0m\u001b[0mread_csv\u001b[0m\u001b[0;34m(\u001b[0m\u001b[0;34m\"Healthcare Providers.csv\"\u001b[0m\u001b[0;34m)\u001b[0m\u001b[0;34m\u001b[0m\u001b[0;34m\u001b[0m\u001b[0m\n\u001b[0m\u001b[1;32m      2\u001b[0m \u001b[0mdf\u001b[0m\u001b[0;34m\u001b[0m\u001b[0;34m\u001b[0m\u001b[0m\n",
            "\u001b[0;31mNameError\u001b[0m: name 'pd' is not defined"
          ]
        }
      ]
    },
    {
      "cell_type": "code",
      "metadata": {
        "id": "m11_y2H7KzoQ"
      },
      "source": [
        ""
      ],
      "execution_count": null,
      "outputs": []
    },
    {
      "cell_type": "code",
      "metadata": {
        "id": "pfqdpaK5LLqi"
      },
      "source": [
        ""
      ],
      "execution_count": null,
      "outputs": []
    },
    {
      "cell_type": "code",
      "metadata": {
        "id": "-cSNtRg1LNU7"
      },
      "source": [
        ""
      ],
      "execution_count": null,
      "outputs": []
    }
  ]
}