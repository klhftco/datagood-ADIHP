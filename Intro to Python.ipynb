{
  "nbformat": 4,
  "nbformat_minor": 0,
  "metadata": {
    "colab": {
      "name": "Week 1: Introduction to Python",
      "provenance": [],
      "collapsed_sections": [],
      "include_colab_link": true
    },
    "kernelspec": {
      "name": "python3",
      "display_name": "Python 3"
    }
  },
  "cells": [
    {
      "cell_type": "markdown",
      "metadata": {
        "id": "view-in-github",
        "colab_type": "text"
      },
      "source": [
        "<a href=\"https://colab.research.google.com/github/klhftco/datagood-ADIHP/blob/main/Intro%20to%20Python.ipynb\" target=\"_parent\"><img src=\"https://colab.research.google.com/assets/colab-badge.svg\" alt=\"Open In Colab\"/></a>"
      ]
    },
    {
      "cell_type": "markdown",
      "metadata": {
        "id": "Mvhu0TU0AnSM"
      },
      "source": [
        "# Intro to Python (written by Isabella Borkovic and Gloria Zhang; edited by Cameron Fozi and Esme Cohen; further revised by Jon Sulit and Stanley Kwon)"
      ]
    },
    {
      "cell_type": "markdown",
      "metadata": {
        "id": "dUpsukesXG0c"
      },
      "source": [
        "## Instructions\n",
        "1. **MAKE A COPY OF THIS COLAB**\n",
        "2. Read and pay close attention to documentation and source code.\n",
        "3. Complete exercises.\n",
        "4. Share with sulitjon@berkeley.edu and shkwon@berkeley.edu, and paste the link into this [Google Form](https://forms.gle/xaPzE39fmXby4owS6).\n",
        "\n"
      ]
    },
    {
      "cell_type": "markdown",
      "metadata": {
        "id": "WKZ0wdTEOuJC"
      },
      "source": [
        "First let's take a look at some different data types in Python. When in doubt, use the type() function to determine what kind of data you are working with. This helps especially because some functions and operations can only have certain arguments so you would need to convert that data into a different type before applying the function."
      ]
    },
    {
      "cell_type": "code",
      "metadata": {
        "id": "qf98D5IKOrwP",
        "colab": {
          "base_uri": "https://localhost:8080/"
        },
        "outputId": "dd33fb96-b2e4-4b6c-8e54-aecc3217db63"
      },
      "source": [
        "x = 7\n",
        "type(x)"
      ],
      "execution_count": null,
      "outputs": [
        {
          "output_type": "execute_result",
          "data": {
            "text/plain": [
              "int"
            ]
          },
          "metadata": {},
          "execution_count": 1
        }
      ]
    },
    {
      "cell_type": "code",
      "metadata": {
        "colab": {
          "base_uri": "https://localhost:8080/"
        },
        "id": "hzdhdGCuH2dP",
        "outputId": "92bc9fc0-0dda-45ec-f0da-7c0e1e7463d0"
      },
      "source": [
        "y = 6.6\n",
        "type(y)"
      ],
      "execution_count": null,
      "outputs": [
        {
          "output_type": "execute_result",
          "data": {
            "text/plain": [
              "float"
            ]
          },
          "metadata": {},
          "execution_count": 1
        }
      ]
    },
    {
      "cell_type": "code",
      "metadata": {
        "colab": {
          "base_uri": "https://localhost:8080/"
        },
        "id": "b8wjNPPzH3Su",
        "outputId": "afbbb85f-e6ec-4dd4-e333-27225190cad8"
      },
      "source": [
        "z = \"hello\"\n",
        "type(z)"
      ],
      "execution_count": null,
      "outputs": [
        {
          "output_type": "execute_result",
          "data": {
            "text/plain": [
              "str"
            ]
          },
          "metadata": {},
          "execution_count": 2
        }
      ]
    },
    {
      "cell_type": "code",
      "metadata": {
        "colab": {
          "base_uri": "https://localhost:8080/"
        },
        "id": "OdkEEkzEzlCy",
        "outputId": "e207fd28-6922-448a-f22f-efc3b660d747"
      },
      "source": [
        "hello = 'hello'   # String literals can use single quotes\n",
        "world = \"world\"   # or double quotes; it does not matter\n",
        "print(hello, len(hello))"
      ],
      "execution_count": null,
      "outputs": [
        {
          "output_type": "stream",
          "name": "stdout",
          "text": [
            "hello 5\n"
          ]
        }
      ]
    },
    {
      "cell_type": "code",
      "metadata": {
        "colab": {
          "base_uri": "https://localhost:8080/"
        },
        "id": "mmB9R8tRzi3l",
        "outputId": "3d0aee21-8cf2-466d-bd1a-856849d8eeb9"
      },
      "source": [
        "hw = hello + ' ' + world  # String concatenation\n",
        "print(hw)"
      ],
      "execution_count": null,
      "outputs": [
        {
          "output_type": "stream",
          "name": "stdout",
          "text": [
            "hello world\n"
          ]
        }
      ]
    },
    {
      "cell_type": "code",
      "metadata": {
        "colab": {
          "base_uri": "https://localhost:8080/"
        },
        "id": "IS9A6XTozoQ7",
        "outputId": "0eb137c2-cb61-4939-e9e1-79daa2a778ec"
      },
      "source": [
        "hw12 = '{} {} {}'.format(hello, world, 12)  # string formatting\n",
        "print(hw12)"
      ],
      "execution_count": null,
      "outputs": [
        {
          "output_type": "stream",
          "name": "stdout",
          "text": [
            "hello world 12\n"
          ]
        }
      ]
    },
    {
      "cell_type": "code",
      "metadata": {
        "colab": {
          "base_uri": "https://localhost:8080/"
        },
        "id": "mcWzZq4DzqjS",
        "outputId": "04c5da5b-9c46-45e6-ee4a-25a0ccccd953"
      },
      "source": [
        "s = \"helLo\"\n",
        "print(s.capitalize())  # Capitalize the first letter of string and lowercase everything else\n",
        "print(s.upper())       # Convert a string to uppercase; prints \"HELLO\"\n",
        "print(s.lower())       # Convert a string to lowercase; prints \"hello\"\n"
      ],
      "execution_count": null,
      "outputs": [
        {
          "output_type": "stream",
          "name": "stdout",
          "text": [
            "Hello\n",
            "HELLO\n",
            "hello\n"
          ]
        }
      ]
    },
    {
      "cell_type": "markdown",
      "metadata": {
        "id": "3j5mbkDryF-N"
      },
      "source": [
        "Oftentimes, when we deal with data we have to convert strings to numbers. \"7\" is not the same as 7, so we have to typecast strings to ints. "
      ]
    },
    {
      "cell_type": "code",
      "metadata": {
        "colab": {
          "base_uri": "https://localhost:8080/",
          "height": 217
        },
        "id": "rJY8XsTnyPVp",
        "outputId": "bafb9bfb-131c-4219-e85c-707a9a488ce5"
      },
      "source": [
        "x = \"7\" #x is a string\n",
        "#If I try to add a number to x, an error will occur:\n",
        "print(x + 3)\n",
        "\n"
      ],
      "execution_count": null,
      "outputs": [
        {
          "output_type": "error",
          "ename": "TypeError",
          "evalue": "ignored",
          "traceback": [
            "\u001b[0;31m---------------------------------------------------------------------------\u001b[0m",
            "\u001b[0;31mTypeError\u001b[0m                                 Traceback (most recent call last)",
            "\u001b[0;32m<ipython-input-7-5661cea08aee>\u001b[0m in \u001b[0;36m<module>\u001b[0;34m()\u001b[0m\n\u001b[1;32m      1\u001b[0m \u001b[0mx\u001b[0m \u001b[0;34m=\u001b[0m \u001b[0;34m\"7\"\u001b[0m \u001b[0;31m#x is a string\u001b[0m\u001b[0;34m\u001b[0m\u001b[0;34m\u001b[0m\u001b[0m\n\u001b[1;32m      2\u001b[0m \u001b[0;31m#If I try to add a number to x, an error will occur:\u001b[0m\u001b[0;34m\u001b[0m\u001b[0;34m\u001b[0m\u001b[0;34m\u001b[0m\u001b[0m\n\u001b[0;32m----> 3\u001b[0;31m \u001b[0mprint\u001b[0m\u001b[0;34m(\u001b[0m\u001b[0mx\u001b[0m \u001b[0;34m+\u001b[0m \u001b[0;36m3\u001b[0m\u001b[0;34m)\u001b[0m\u001b[0;34m\u001b[0m\u001b[0;34m\u001b[0m\u001b[0m\n\u001b[0m\u001b[1;32m      4\u001b[0m \u001b[0;34m\u001b[0m\u001b[0m\n",
            "\u001b[0;31mTypeError\u001b[0m: can only concatenate str (not \"int\") to str"
          ]
        }
      ]
    },
    {
      "cell_type": "code",
      "metadata": {
        "colab": {
          "base_uri": "https://localhost:8080/"
        },
        "id": "LURaoT_5yndj",
        "outputId": "531e50b2-46a8-428b-b129-9885e98136b9"
      },
      "source": [
        "#however, if I typecast x to an integer, the environment will recognize x as an integer and add it to 3 properly\n",
        "x_int = int(x)\n",
        "print(x_int + 3)"
      ],
      "execution_count": null,
      "outputs": [
        {
          "output_type": "stream",
          "name": "stdout",
          "text": [
            "10\n"
          ]
        }
      ]
    },
    {
      "cell_type": "code",
      "metadata": {
        "colab": {
          "base_uri": "https://localhost:8080/"
        },
        "id": "OlPVCFUMH3bG",
        "outputId": "9e4a9981-0016-45e6-ea26-b96f0c04e9ca"
      },
      "source": [
        "t = True\n",
        "type(t)"
      ],
      "execution_count": null,
      "outputs": [
        {
          "output_type": "execute_result",
          "data": {
            "text/plain": [
              "bool"
            ]
          },
          "metadata": {},
          "execution_count": 9
        }
      ]
    },
    {
      "cell_type": "markdown",
      "metadata": {
        "id": "VJcGZBuhSXZ5"
      },
      "source": [
        "Next we will introduce booleans, which return either True or False given a piece of code. In the examples below, we look at numerical comparisons."
      ]
    },
    {
      "cell_type": "code",
      "metadata": {
        "colab": {
          "base_uri": "https://localhost:8080/",
          "height": 35
        },
        "id": "YhH6ljeghKYq",
        "outputId": "5900e3ac-26b9-4ae1-de8e-57b52951f15c"
      },
      "source": [
        "# Here's x:\n",
        "\n",
        "x"
      ],
      "execution_count": null,
      "outputs": [
        {
          "output_type": "execute_result",
          "data": {
            "application/vnd.google.colaboratory.intrinsic+json": {
              "type": "string"
            },
            "text/plain": [
              "'7'"
            ]
          },
          "metadata": {},
          "execution_count": 10
        }
      ]
    },
    {
      "cell_type": "code",
      "metadata": {
        "colab": {
          "base_uri": "https://localhost:8080/"
        },
        "id": "cEFFFeXEH3hJ",
        "outputId": "e7c017a2-6c8b-4407-fc5d-a7c505e78795"
      },
      "source": [
        "x == 6"
      ],
      "execution_count": null,
      "outputs": [
        {
          "output_type": "execute_result",
          "data": {
            "text/plain": [
              "False"
            ]
          },
          "metadata": {},
          "execution_count": 11
        }
      ]
    },
    {
      "cell_type": "code",
      "metadata": {
        "colab": {
          "base_uri": "https://localhost:8080/"
        },
        "id": "vE88jclxH3ob",
        "outputId": "0cbdc8ec-f636-468e-f7c0-a831479e4dfa"
      },
      "source": [
        "x != 6"
      ],
      "execution_count": null,
      "outputs": [
        {
          "output_type": "execute_result",
          "data": {
            "text/plain": [
              "True"
            ]
          },
          "metadata": {},
          "execution_count": 12
        }
      ]
    },
    {
      "cell_type": "code",
      "metadata": {
        "colab": {
          "base_uri": "https://localhost:8080/",
          "height": 165
        },
        "id": "-ISZ7gaFSlwp",
        "outputId": "873a50d4-d1e4-4e11-e11d-cb87abc44f2e"
      },
      "source": [
        "x <= 10"
      ],
      "execution_count": null,
      "outputs": [
        {
          "output_type": "error",
          "ename": "TypeError",
          "evalue": "ignored",
          "traceback": [
            "\u001b[0;31m---------------------------------------------------------------------------\u001b[0m",
            "\u001b[0;31mTypeError\u001b[0m                                 Traceback (most recent call last)",
            "\u001b[0;32m<ipython-input-13-abd59da28778>\u001b[0m in \u001b[0;36m<module>\u001b[0;34m()\u001b[0m\n\u001b[0;32m----> 1\u001b[0;31m \u001b[0mx\u001b[0m \u001b[0;34m<=\u001b[0m \u001b[0;36m10\u001b[0m\u001b[0;34m\u001b[0m\u001b[0;34m\u001b[0m\u001b[0m\n\u001b[0m",
            "\u001b[0;31mTypeError\u001b[0m: '<=' not supported between instances of 'str' and 'int'"
          ]
        }
      ]
    },
    {
      "cell_type": "markdown",
      "metadata": {
        "id": "Y4KqL5B_zIg0"
      },
      "source": [
        "Python implements all of the usual operators for Boolean logic, but uses English words rather than symbols (`&&`, `||`, etc.):"
      ]
    },
    {
      "cell_type": "code",
      "metadata": {
        "colab": {
          "base_uri": "https://localhost:8080/"
        },
        "id": "deZoAyUJzH-H",
        "outputId": "7d90f5c4-d41b-413c-ac3d-513285450499"
      },
      "source": [
        "t, f = True, False\n",
        "print(type(t))"
      ],
      "execution_count": null,
      "outputs": [
        {
          "output_type": "stream",
          "name": "stdout",
          "text": [
            "<class 'bool'>\n"
          ]
        }
      ]
    },
    {
      "cell_type": "markdown",
      "metadata": {
        "id": "7Yyc5Kb-zXWS"
      },
      "source": [
        "Now let's look at the operations: "
      ]
    },
    {
      "cell_type": "code",
      "metadata": {
        "colab": {
          "base_uri": "https://localhost:8080/"
        },
        "id": "vaUdezGFzUmf",
        "outputId": "3974a349-ad1f-4a75-820c-d942452d9e4c"
      },
      "source": [
        "print(t and f) # returns true only if both inputs are ture\n",
        "print(t or f) # returns true if at least one input is true\n",
        "print(not t) # returns true if the input is false; returns false if the input is true  \n",
        "print(t != f)  # returns true if the two inputs are not equal\n",
        "print(t == f) #returns true if the two inputs are equal"
      ],
      "execution_count": null,
      "outputs": [
        {
          "output_type": "stream",
          "name": "stdout",
          "text": [
            "False\n",
            "True\n",
            "False\n",
            "True\n",
            "False\n"
          ]
        }
      ]
    },
    {
      "cell_type": "markdown",
      "metadata": {
        "id": "sVyk2EsZuyIl"
      },
      "source": [
        "You can use if statements to make code that performs a certain action if the input is true."
      ]
    },
    {
      "cell_type": "code",
      "metadata": {
        "colab": {
          "base_uri": "https://localhost:8080/"
        },
        "id": "URHMUJ3Cu2IR",
        "outputId": "0a6c6bc5-5edd-45eb-aa48-f05bfdd0895c"
      },
      "source": [
        "if (3 == 5 - 2):\n",
        "  print(\"cowabunga\")"
      ],
      "execution_count": null,
      "outputs": [
        {
          "output_type": "stream",
          "name": "stdout",
          "text": [
            "cowabunga\n"
          ]
        }
      ]
    },
    {
      "cell_type": "markdown",
      "metadata": {
        "id": "P3TYnHLbu7UI"
      },
      "source": [
        "If/else statements perform a certain action if the input is true, and a different action if the input is false."
      ]
    },
    {
      "cell_type": "code",
      "metadata": {
        "colab": {
          "base_uri": "https://localhost:8080/"
        },
        "id": "sLSVDUSkvALa",
        "outputId": "9f5b6ecb-aaa2-4f23-ff0d-a1c1dcf2e0c4"
      },
      "source": [
        "if (7 == 8):\n",
        "  print(\"in the if statement\")\n",
        "else:\n",
        "  print(\"in the else statement\")"
      ],
      "execution_count": null,
      "outputs": [
        {
          "output_type": "stream",
          "name": "stdout",
          "text": [
            "in the else statement\n"
          ]
        }
      ]
    },
    {
      "cell_type": "markdown",
      "metadata": {
        "id": "VhcjJxcxSuid"
      },
      "source": [
        "Next we will look at several conditional statements. Please note the indentation and syntax (colon). "
      ]
    },
    {
      "cell_type": "code",
      "metadata": {
        "colab": {
          "base_uri": "https://localhost:8080/"
        },
        "id": "GQf_YYhAH3sV",
        "outputId": "f10df54a-e51a-4635-e6ef-919904594faa"
      },
      "source": [
        "if x == 6:\n",
        "    print (\" x is 6\")\n",
        "elif x == 5:\n",
        "    print(\" x is 5 \")\n",
        "else:\n",
        "    print(\"x is some number that is not 6 or 5\")"
      ],
      "execution_count": null,
      "outputs": [
        {
          "output_type": "stream",
          "name": "stdout",
          "text": [
            "x is some number that is not 6 or 5\n"
          ]
        }
      ]
    },
    {
      "cell_type": "markdown",
      "metadata": {
        "id": "Sq6moDBMvOTQ"
      },
      "source": [
        "Task 1a:\n",
        "Create an if-elif-else statement that prints \"tiny\" if x is less than 8, prints \"8\" if x is equal to 8, and prints \"ginormous\" if x is greater than 8."
      ]
    },
    {
      "cell_type": "code",
      "metadata": {
        "id": "asn1DJptvKJQ"
      },
      "source": [
        "\n"
      ],
      "execution_count": null,
      "outputs": []
    },
    {
      "cell_type": "markdown",
      "metadata": {
        "id": "DyKae6Pcvfov"
      },
      "source": [
        "While loops perform an action as long as a certain expression is true (the expression after the while loop). In this example, the code prints the variable a as long as a is less than 10. After each loop, a increases by 1. Be careful of infinite loops when you use while loops!"
      ]
    },
    {
      "cell_type": "code",
      "metadata": {
        "colab": {
          "base_uri": "https://localhost:8080/"
        },
        "id": "wcKaRQkRH30f",
        "outputId": "7e712514-2fbb-4a86-cae7-0d8d97ab32df"
      },
      "source": [
        "a = 1\n",
        "while a < 10:\n",
        "    print(a)\n",
        "    a += 1 #another way of saying a = a + 1"
      ],
      "execution_count": null,
      "outputs": [
        {
          "output_type": "stream",
          "name": "stdout",
          "text": [
            "1\n",
            "2\n",
            "3\n",
            "4\n",
            "5\n",
            "6\n",
            "7\n",
            "8\n",
            "9\n"
          ]
        }
      ]
    },
    {
      "cell_type": "markdown",
      "metadata": {
        "id": "V2SXUdEaIVQI"
      },
      "source": [
        "Task 1b: Create a while loop that will print the multiples of five from 1 to 100."
      ]
    },
    {
      "cell_type": "code",
      "metadata": {
        "id": "_UYgxIXNOQkg"
      },
      "source": [
        ""
      ],
      "execution_count": null,
      "outputs": []
    },
    {
      "cell_type": "markdown",
      "metadata": {
        "id": "EPV0IE3LTD4V"
      },
      "source": [
        "Now we will take a look at the for loop which allows us to iterate through lists and other types of data. Range does not include the last element. Range(1, 4) would include the numbers 1,2, and 3, but not 4."
      ]
    },
    {
      "cell_type": "code",
      "metadata": {
        "colab": {
          "base_uri": "https://localhost:8080/"
        },
        "id": "ikhz6OiAH398",
        "outputId": "d383d608-45d4-403a-f280-3739336ad84b"
      },
      "source": [
        "range(1, 10)"
      ],
      "execution_count": null,
      "outputs": [
        {
          "output_type": "execute_result",
          "data": {
            "text/plain": [
              "range(1, 10)"
            ]
          },
          "metadata": {},
          "execution_count": 19
        }
      ]
    },
    {
      "cell_type": "code",
      "metadata": {
        "colab": {
          "base_uri": "https://localhost:8080/"
        },
        "id": "oQCJVEqOH4B8",
        "outputId": "5113754c-831d-45e8-fa28-2bf8570d85ce"
      },
      "source": [
        "for x in range(1,10):\n",
        "    print(x)"
      ],
      "execution_count": null,
      "outputs": [
        {
          "output_type": "stream",
          "name": "stdout",
          "text": [
            "1\n",
            "2\n",
            "3\n",
            "4\n",
            "5\n",
            "6\n",
            "7\n",
            "8\n",
            "9\n"
          ]
        }
      ]
    },
    {
      "cell_type": "markdown",
      "metadata": {
        "id": "5K332a9LTW6x"
      },
      "source": [
        "Now we will take a look at lists, which basically store data (that can have different types, so you can have a list with a string, a number, and a boolean) and how to slice them to output specific values. "
      ]
    },
    {
      "cell_type": "code",
      "metadata": {
        "id": "lLUm_QiHId86"
      },
      "source": [
        "numbers = [1, 2, 5, 6, 8, 9]"
      ],
      "execution_count": null,
      "outputs": []
    },
    {
      "cell_type": "code",
      "metadata": {
        "colab": {
          "base_uri": "https://localhost:8080/"
        },
        "id": "8LftVyPDIeVe",
        "outputId": "c4a9aafb-fc09-48e4-f8d8-fd86c5a8df9a"
      },
      "source": [
        "numbers[:3]"
      ],
      "execution_count": null,
      "outputs": [
        {
          "output_type": "execute_result",
          "data": {
            "text/plain": [
              "[1, 2, 5]"
            ]
          },
          "metadata": {},
          "execution_count": 22
        }
      ]
    },
    {
      "cell_type": "code",
      "metadata": {
        "colab": {
          "base_uri": "https://localhost:8080/"
        },
        "id": "7rGhKOYtIeZg",
        "outputId": "751636d7-86ad-458b-eed0-aacd5b13345d"
      },
      "source": [
        "numbers[1:2]"
      ],
      "execution_count": null,
      "outputs": [
        {
          "output_type": "execute_result",
          "data": {
            "text/plain": [
              "[2]"
            ]
          },
          "metadata": {},
          "execution_count": 23
        }
      ]
    },
    {
      "cell_type": "code",
      "metadata": {
        "colab": {
          "base_uri": "https://localhost:8080/"
        },
        "id": "9P6hsYFsIeg_",
        "outputId": "20c2255f-50bd-4b76-9396-7ef4b50f31e4"
      },
      "source": [
        "numbers[::2]"
      ],
      "execution_count": null,
      "outputs": [
        {
          "output_type": "execute_result",
          "data": {
            "text/plain": [
              "[1, 5, 8]"
            ]
          },
          "metadata": {},
          "execution_count": 24
        }
      ]
    },
    {
      "cell_type": "markdown",
      "metadata": {
        "id": "d4EWDErnJQQX"
      },
      "source": [
        "Task 2: Slice the list numbers so that you get every other number starting from 2. (You want [2,6,9])"
      ]
    },
    {
      "cell_type": "code",
      "metadata": {
        "id": "ebBIufiwIeoI"
      },
      "source": [
        ""
      ],
      "execution_count": null,
      "outputs": []
    },
    {
      "cell_type": "markdown",
      "metadata": {
        "id": "K95_f84CTg4S"
      },
      "source": [
        "Next we'll take a look at the different methods we can apply to lists, from adding new values to determining a value's index (i.e. position) in a list. Please note that indexes start at 0. "
      ]
    },
    {
      "cell_type": "code",
      "metadata": {
        "colab": {
          "base_uri": "https://localhost:8080/"
        },
        "id": "ep2BDL9BIetW",
        "outputId": "1aa340b4-c80b-4d57-c36b-6de4a7881f39"
      },
      "source": [
        "numbers.append(10)\n",
        "numbers"
      ],
      "execution_count": null,
      "outputs": [
        {
          "output_type": "execute_result",
          "data": {
            "text/plain": [
              "[1, 2, 5, 6, 8, 9, 10]"
            ]
          },
          "metadata": {},
          "execution_count": 40
        }
      ]
    },
    {
      "cell_type": "code",
      "metadata": {
        "colab": {
          "base_uri": "https://localhost:8080/"
        },
        "id": "qSqkKz3aJazV",
        "outputId": "921c1ffc-d7c4-4971-9f6f-6851788ae6c0"
      },
      "source": [
        "numbers.extend([3, 5])\n",
        "numbers"
      ],
      "execution_count": null,
      "outputs": [
        {
          "output_type": "execute_result",
          "data": {
            "text/plain": [
              "[1, 2, 5, 6, 8, 9, 10, 3, 5]"
            ]
          },
          "metadata": {},
          "execution_count": 41
        }
      ]
    },
    {
      "cell_type": "code",
      "metadata": {
        "colab": {
          "base_uri": "https://localhost:8080/"
        },
        "id": "CyUG4HRrJcLs",
        "outputId": "9f2bf6b6-acc8-4c2d-b8e8-6325e3e6bac2"
      },
      "source": [
        "numbers.index(5)"
      ],
      "execution_count": null,
      "outputs": [
        {
          "output_type": "execute_result",
          "data": {
            "text/plain": [
              "2"
            ]
          },
          "metadata": {},
          "execution_count": 42
        }
      ]
    },
    {
      "cell_type": "code",
      "metadata": {
        "colab": {
          "base_uri": "https://localhost:8080/"
        },
        "id": "TE4cUgsaJdY8",
        "outputId": "160147d6-3b43-45b4-fbe5-c72254c459e6"
      },
      "source": [
        "numbers.insert(0, 22)\n",
        "numbers"
      ],
      "execution_count": null,
      "outputs": [
        {
          "output_type": "execute_result",
          "data": {
            "text/plain": [
              "[22, 1, 2, 5, 6, 8, 9, 10, 3, 5]"
            ]
          },
          "metadata": {},
          "execution_count": 43
        }
      ]
    },
    {
      "cell_type": "code",
      "metadata": {
        "colab": {
          "base_uri": "https://localhost:8080/"
        },
        "id": "V89PMm1CJe4v",
        "outputId": "9421d9a0-96ac-4da1-fd54-ad3b5b87d580"
      },
      "source": [
        "numbers.pop(0)\n",
        "numbers"
      ],
      "execution_count": null,
      "outputs": [
        {
          "output_type": "execute_result",
          "data": {
            "text/plain": [
              "[1, 2, 5, 6, 8, 9, 10, 3, 5]"
            ]
          },
          "metadata": {},
          "execution_count": 44
        }
      ]
    },
    {
      "cell_type": "code",
      "metadata": {
        "colab": {
          "base_uri": "https://localhost:8080/"
        },
        "id": "Di4d5XmtJgMt",
        "outputId": "f4757590-998b-4379-877d-0d15744044b6"
      },
      "source": [
        "numbers.sort()\n",
        "numbers"
      ],
      "execution_count": null,
      "outputs": [
        {
          "output_type": "execute_result",
          "data": {
            "text/plain": [
              "[1, 2, 3, 5, 5, 6, 8, 9, 10]"
            ]
          },
          "metadata": {},
          "execution_count": 45
        }
      ]
    },
    {
      "cell_type": "markdown",
      "metadata": {
        "id": "w-RoY2CRTwHo"
      },
      "source": [
        "Now we will see examples of using list comprehensions to essentially \"build\" a new list from an existing list. Every list comprehension in Python includes 3 elements:\n",
        "\n",
        "1. Output: what you want the output to be\n",
        "\n",
        "2. Item: what is the object or value in the list (usually i)\n",
        "\n",
        "3. Iterable: a list, set, sequence, tuple, or any other type of object that can return its elements one at a time.\n",
        "\n",
        "We will also see that it does not matter what we name what we are iterating through, although it is recommended to make it related to your code. "
      ]
    },
    {
      "cell_type": "code",
      "metadata": {
        "colab": {
          "base_uri": "https://localhost:8080/"
        },
        "id": "nZ3wRG6EJhbw",
        "outputId": "78b55914-4cd1-4f96-ec51-7bcafd5f4de7"
      },
      "source": [
        "[x/2 for x in numbers]"
      ],
      "execution_count": null,
      "outputs": [
        {
          "output_type": "execute_result",
          "data": {
            "text/plain": [
              "[0.5, 1.0, 1.5, 2.5, 2.5, 3.0, 4.0, 4.5, 5.0]"
            ]
          },
          "metadata": {},
          "execution_count": 46
        }
      ]
    },
    {
      "cell_type": "code",
      "metadata": {
        "colab": {
          "base_uri": "https://localhost:8080/"
        },
        "id": "Z_Gp6bOxJiwR",
        "outputId": "2ab3956d-00be-44d9-96eb-df3ddac0bf37"
      },
      "source": [
        "[isabella_is_awesome for isabella_is_awesome in numbers if isabella_is_awesome % 2 == 0]"
      ],
      "execution_count": null,
      "outputs": [
        {
          "output_type": "execute_result",
          "data": {
            "text/plain": [
              "[2, 6, 8, 10]"
            ]
          },
          "metadata": {},
          "execution_count": 47
        }
      ]
    },
    {
      "cell_type": "markdown",
      "metadata": {
        "id": "GH82u_r6UJki"
      },
      "source": [
        "The len() function is also useful to determine the number of items in lists, number of letters in a string, etc. "
      ]
    },
    {
      "cell_type": "code",
      "metadata": {
        "colab": {
          "base_uri": "https://localhost:8080/"
        },
        "id": "Pc8IMRHMJkvT",
        "outputId": "3dcaa27e-cc16-4b5c-d4b0-b5002acaeea6"
      },
      "source": [
        "len(numbers)"
      ],
      "execution_count": null,
      "outputs": [
        {
          "output_type": "execute_result",
          "data": {
            "text/plain": [
              "9"
            ]
          },
          "metadata": {},
          "execution_count": 48
        }
      ]
    },
    {
      "cell_type": "code",
      "metadata": {
        "colab": {
          "base_uri": "https://localhost:8080/"
        },
        "id": "-YZMqPF_Jp5k",
        "outputId": "f93d8487-175c-4a0d-ce91-1c7f4b1ba36d"
      },
      "source": [
        "len(\"Ava\")"
      ],
      "execution_count": null,
      "outputs": [
        {
          "output_type": "execute_result",
          "data": {
            "text/plain": [
              "3"
            ]
          },
          "metadata": {},
          "execution_count": 49
        }
      ]
    },
    {
      "cell_type": "code",
      "metadata": {
        "id": "jr7Oy8foJrBb"
      },
      "source": [
        "names = [\"Cameron\", \"Esme\", \"Megan\", \"Omar\", \"Siddarth\", \"Jessica\", \"Thomas\", \"Thao\", \"Elena\"]"
      ],
      "execution_count": null,
      "outputs": []
    },
    {
      "cell_type": "markdown",
      "metadata": {
        "id": "5JatUnrVJueu"
      },
      "source": [
        "Task 3: Create a list comprehension of names with more than 5 letters"
      ]
    },
    {
      "cell_type": "code",
      "metadata": {
        "id": "h8wbsmVBUSj7"
      },
      "source": [
        ""
      ],
      "execution_count": null,
      "outputs": []
    },
    {
      "cell_type": "markdown",
      "metadata": {
        "id": "Va2Te1PqUTQU"
      },
      "source": [
        "Next we will look at dictionaries, which have keys and values. The keys in the next example are \"blue\", \"red\", \"green\", \"yellow\", and \"purple\" and can be used to access their corresponding values: 3, 5, 8, 9, 0. "
      ]
    },
    {
      "cell_type": "code",
      "metadata": {
        "id": "9OxxvZxMJsO0"
      },
      "source": [
        "d = {\"blue\": 3, \"red\": 5, \"green\": 8, \"yellow\": 9, \"purple\": 0}"
      ],
      "execution_count": null,
      "outputs": []
    },
    {
      "cell_type": "code",
      "metadata": {
        "colab": {
          "base_uri": "https://localhost:8080/"
        },
        "id": "uz_4iMMqJwBA",
        "outputId": "ea6f745b-385b-48be-ecb9-2dc195a87f04"
      },
      "source": [
        "d[\"blue\"]"
      ],
      "execution_count": null,
      "outputs": [
        {
          "output_type": "execute_result",
          "data": {
            "text/plain": [
              "3"
            ]
          },
          "metadata": {},
          "execution_count": 54
        }
      ]
    },
    {
      "cell_type": "code",
      "metadata": {
        "colab": {
          "base_uri": "https://localhost:8080/"
        },
        "id": "OYouHqdNKGcQ",
        "outputId": "1baa0b4b-43df-4578-f895-5729382bea58"
      },
      "source": [
        "d.keys()"
      ],
      "execution_count": null,
      "outputs": [
        {
          "output_type": "execute_result",
          "data": {
            "text/plain": [
              "dict_keys(['blue', 'red', 'green', 'yellow', 'purple'])"
            ]
          },
          "metadata": {},
          "execution_count": 55
        }
      ]
    },
    {
      "cell_type": "code",
      "metadata": {
        "colab": {
          "base_uri": "https://localhost:8080/"
        },
        "id": "KUNRf9WdKHkD",
        "outputId": "e959c897-3634-488b-e33d-2b9f8f84e07b"
      },
      "source": [
        "d.values()"
      ],
      "execution_count": null,
      "outputs": [
        {
          "output_type": "execute_result",
          "data": {
            "text/plain": [
              "dict_values([3, 5, 8, 9, 0])"
            ]
          },
          "metadata": {},
          "execution_count": 56
        }
      ]
    },
    {
      "cell_type": "code",
      "metadata": {
        "colab": {
          "base_uri": "https://localhost:8080/"
        },
        "id": "vWVXh-_DKI9v",
        "outputId": "8fecc7c9-525a-4720-9779-760f667a5a85"
      },
      "source": [
        "for name in names:\n",
        "    print(name)"
      ],
      "execution_count": null,
      "outputs": [
        {
          "output_type": "stream",
          "name": "stdout",
          "text": [
            "Cameron\n",
            "Esme\n",
            "Megan\n",
            "Omar\n",
            "Siddarth\n",
            "Jessica\n",
            "Thomas\n",
            "Thao\n",
            "Elena\n"
          ]
        }
      ]
    },
    {
      "cell_type": "code",
      "metadata": {
        "colab": {
          "base_uri": "https://localhost:8080/"
        },
        "id": "qoIJIP-7KKL_",
        "outputId": "40e3c280-2cdb-45be-ac04-fd4f19480784"
      },
      "source": [
        "for bla in numbers:\n",
        "    print(bla/2)"
      ],
      "execution_count": null,
      "outputs": [
        {
          "output_type": "stream",
          "name": "stdout",
          "text": [
            "0.5\n",
            "1.0\n",
            "1.5\n",
            "2.5\n",
            "2.5\n",
            "3.0\n",
            "4.0\n",
            "4.5\n",
            "5.0\n"
          ]
        }
      ]
    },
    {
      "cell_type": "code",
      "metadata": {
        "colab": {
          "base_uri": "https://localhost:8080/"
        },
        "id": "D4eZjbwOKLzG",
        "outputId": "8028d0a2-9db0-43dc-9905-f217b7e6a668"
      },
      "source": [
        "for hey in d:\n",
        "    print (hey)"
      ],
      "execution_count": null,
      "outputs": [
        {
          "output_type": "stream",
          "name": "stdout",
          "text": [
            "blue\n",
            "red\n",
            "green\n",
            "yellow\n",
            "purple\n"
          ]
        }
      ]
    },
    {
      "cell_type": "markdown",
      "metadata": {
        "id": "3KhANeISK02b"
      },
      "source": [
        "Task 4: Create a for loop that goes through the names list and prints \"Hello (name)\" if the name is less than 6 letters. If the name is 6 to 9 letters, print the first five letters of the name using list slicing (list slicing works the same way for strings). If the name is 10 letters or more, print \"Your name is interesting and beautiful. Heart eyes.\" "
      ]
    },
    {
      "cell_type": "code",
      "metadata": {
        "id": "v7eCL5FkKNUB"
      },
      "source": [
        ""
      ],
      "execution_count": null,
      "outputs": []
    },
    {
      "cell_type": "markdown",
      "metadata": {
        "id": "TBRnrnxLyu1Y"
      },
      "source": [
        "##Creating Functions\n",
        "We will often create functions to bundle a set of instructions that you want to use repeatedly. For a simple example, say you wanted to print \"Hello\" \"How many bags would you like?\" and \"Have a nice day!\" every time a customer came in. (this example does not make too much practical sense but ignore that for the sake of learning). If you had to type out all that every time, that would be very annoying. BUT, if you created a function that did all that for you, life would be easier, simpler, and more beautiful. Here's how!\n"
      ]
    },
    {
      "cell_type": "markdown",
      "metadata": {
        "id": "hAAAWp0QzWMD"
      },
      "source": [
        "1. Use the keyword def to declare the function and follow this up with the function name.\n",
        "2. Add parameters to the function: they should be within the parentheses of the function. End your line with a colon.\n",
        "3. Add statements that the functions should execute.\n",
        "4. End your function with a return statement if the function should output something. Without the return statement, your function will return an object None."
      ]
    },
    {
      "cell_type": "markdown",
      "metadata": {
        "id": "VvZp3hi0zaTL"
      },
      "source": [
        "Here's a function using the aforementioned example. It returns None because it has no return statement, and its only purpose is to print 3 statements"
      ]
    },
    {
      "cell_type": "code",
      "metadata": {
        "id": "PA7x0zMiziDr"
      },
      "source": [
        "def greeting ():\n",
        "    print(\"Hello\")\n",
        "    print(\"How many bags would you like?\")\n",
        "    print(\"Have a nice day!\")\n"
      ],
      "execution_count": null,
      "outputs": []
    },
    {
      "cell_type": "markdown",
      "metadata": {
        "id": "139stEuGzwZe"
      },
      "source": [
        "Now I can call this function as many times as I want! When I call a function, I add parentheses after the function name and add parameters inside the function if applicable. My function greeting has no parameters, so I don't add any."
      ]
    },
    {
      "cell_type": "code",
      "metadata": {
        "colab": {
          "base_uri": "https://localhost:8080/"
        },
        "id": "3jYy9yVIztuw",
        "outputId": "9d8d5668-336f-48ac-f045-412438b7ce6c"
      },
      "source": [
        "greeting()"
      ],
      "execution_count": null,
      "outputs": [
        {
          "output_type": "stream",
          "name": "stdout",
          "text": [
            "Hello\n",
            "How many bags would you like?\n",
            "Have a nice day!\n"
          ]
        }
      ]
    },
    {
      "cell_type": "markdown",
      "metadata": {
        "id": "SVv7mfOh0nuZ"
      },
      "source": [
        "This function is a little useless. Let's try making a slightly more useful greeting function that takes in a name and prints out \"Hello name\""
      ]
    },
    {
      "cell_type": "code",
      "metadata": {
        "id": "Coy4lrzB0x9y"
      },
      "source": [
        "def greeting (name):\n",
        "    print(\"Hello \" + name)\n"
      ],
      "execution_count": null,
      "outputs": []
    },
    {
      "cell_type": "markdown",
      "metadata": {
        "id": "Y96ygr9u01tT"
      },
      "source": [
        "Now if I try calling greeting with the name \"Isabella\", I get this:"
      ]
    },
    {
      "cell_type": "code",
      "metadata": {
        "colab": {
          "base_uri": "https://localhost:8080/"
        },
        "id": "_2z1FSQW05Ae",
        "outputId": "3a8fe644-390d-4ce0-a268-35ad88c71808"
      },
      "source": [
        "greeting(\"Isabella\")"
      ],
      "execution_count": null,
      "outputs": [
        {
          "output_type": "stream",
          "name": "stdout",
          "text": [
            "Hello Isabella\n"
          ]
        }
      ]
    },
    {
      "cell_type": "markdown",
      "metadata": {
        "id": "60QUEtxv07sE"
      },
      "source": [
        "Next week, we'll be looking at a function that converts strings such as \"$123456\" into numbers. If we input \"$123456\" into the function, it'll return the integer 123456. We'll use the built-in function `replace` to help us. Built in functions are built into python, so we don't need to define them. The replace function takes in 2 parameters—the first is the string to find and the second is the string to replace it with. Here is an example: "
      ]
    },
    {
      "cell_type": "code",
      "metadata": {
        "colab": {
          "base_uri": "https://localhost:8080/",
          "height": 35
        },
        "id": "MJLF4-f0LeIo",
        "outputId": "3a18daea-c7b3-45a7-c36b-60d6874681ad"
      },
      "source": [
        "str = \"replace all a's with the string '56b'\"\n",
        "str.replace('a', '56b')"
      ],
      "execution_count": null,
      "outputs": [
        {
          "output_type": "execute_result",
          "data": {
            "application/vnd.google.colaboratory.intrinsic+json": {
              "type": "string"
            },
            "text/plain": [
              "\"repl56bce 56bll 56b's with the string '56b'\""
            ]
          },
          "metadata": {},
          "execution_count": 100
        }
      ]
    },
    {
      "cell_type": "markdown",
      "metadata": {
        "id": "GK9_FBXPLuga"
      },
      "source": [
        "As you can see, to call the replace function, you write [string name].replace(param1, param2). With many built-in functions, such as append, that is the syntax in which you call functions. With others, such as len(), it is different. Look up examples of function documentation if you are confused on how to call a function!"
      ]
    },
    {
      "cell_type": "markdown",
      "metadata": {
        "id": "J9PwAeGNMMAp"
      },
      "source": [
        "We can also replace the a's with empty text ('') to just get rid of all a's. "
      ]
    },
    {
      "cell_type": "code",
      "metadata": {
        "colab": {
          "base_uri": "https://localhost:8080/",
          "height": 35
        },
        "id": "ASyJ4gW5LtwU",
        "outputId": "ba9df47e-93e8-4e47-d400-2c5edc10e7b7"
      },
      "source": [
        "str = \"replace all a's with absolutely nothing\"\n",
        "str.replace('a', '')"
      ],
      "execution_count": null,
      "outputs": [
        {
          "output_type": "execute_result",
          "data": {
            "application/vnd.google.colaboratory.intrinsic+json": {
              "type": "string"
            },
            "text/plain": [
              "\"replce ll 's with bsolutely nothing\""
            ]
          },
          "metadata": {},
          "execution_count": 101
        }
      ]
    },
    {
      "cell_type": "markdown",
      "metadata": {
        "id": "brLMgzFC1TZj"
      },
      "source": [
        "Now let's write the function!"
      ]
    },
    {
      "cell_type": "code",
      "metadata": {
        "id": "fZZiwTLgEnpd"
      },
      "source": [
        "# define a new function to remove the dollar signs \n",
        "def remove_dollar_sign(x): \n",
        "  # check if input is valid  \n",
        "  if not x:\n",
        "    return 0\n",
        "  # since we know the first element is always a \"$\", we can simply slice the string and return the result casted into an integer \n",
        "  no_dollar_sign = int(x[1:].replace(\",\", \"\"))\n",
        "  return no_dollar_sign"
      ],
      "execution_count": null,
      "outputs": []
    },
    {
      "cell_type": "markdown",
      "metadata": {
        "id": "IHW7WuInErjm"
      },
      "source": [
        "Testing the function!"
      ]
    },
    {
      "cell_type": "code",
      "metadata": {
        "colab": {
          "base_uri": "https://localhost:8080/"
        },
        "id": "32Kibo2pEttf",
        "outputId": "7d13c931-b855-44ea-d27a-ec870fa9a1dc"
      },
      "source": [
        "remove_dollar_sign(\"$45639\")"
      ],
      "execution_count": null,
      "outputs": [
        {
          "output_type": "execute_result",
          "data": {
            "text/plain": [
              "45639"
            ]
          },
          "metadata": {},
          "execution_count": 103
        }
      ]
    },
    {
      "cell_type": "markdown",
      "metadata": {
        "id": "fCyzaZx6E3Nw"
      },
      "source": [
        "Yay it works amazing. \n",
        "#Task 6\n",
        "Now let's build a function (that we will also use next week) to remove commas from a string such as \"12,345\" and convert the string into an integer. "
      ]
    },
    {
      "cell_type": "code",
      "metadata": {
        "id": "9i5KbG2LFJA7"
      },
      "source": [
        ""
      ],
      "execution_count": null,
      "outputs": []
    },
    {
      "cell_type": "code",
      "metadata": {
        "id": "DLYYvjRdFNQ_",
        "colab": {
          "base_uri": "https://localhost:8080/"
        },
        "outputId": "72ed0395-1628-4cc1-9d9f-3a595a481174"
      },
      "source": [
        "#test your function\n",
        "remove_commas_test = remove_commas(\"12,345\") #should return 12345\n",
        "print(remove_commas_test)"
      ],
      "execution_count": null,
      "outputs": [
        {
          "output_type": "stream",
          "name": "stdout",
          "text": [
            "12345\n"
          ]
        }
      ]
    },
    {
      "cell_type": "markdown",
      "metadata": {
        "id": "dtlPTJkEAexS"
      },
      "source": [
        "## Intro to NumPy!! - partially taken from https://cs231n.github.io/python-numpy-tutorial/"
      ]
    },
    {
      "cell_type": "markdown",
      "metadata": {
        "id": "5d1q46_cymKs"
      },
      "source": [
        "NumPy is a Python library that provides a multidimensional array objects and an assortment of routines for fast operations on arrays."
      ]
    },
    {
      "cell_type": "markdown",
      "metadata": {
        "id": "cU2uF0Crz1LY"
      },
      "source": [
        "Like with all libraries, we need to import the NumPy package to start using it."
      ]
    },
    {
      "cell_type": "code",
      "metadata": {
        "id": "nfRIlgMaAhJI"
      },
      "source": [
        "import numpy as np"
      ],
      "execution_count": null,
      "outputs": []
    },
    {
      "cell_type": "markdown",
      "metadata": {
        "id": "4ynFTSUf0Cph"
      },
      "source": [
        "We can initialize numpy arrays from nested Python lists, and access elements using square brackets:"
      ]
    },
    {
      "cell_type": "code",
      "metadata": {
        "colab": {
          "base_uri": "https://localhost:8080/"
        },
        "id": "iSfyIdREz4pj",
        "outputId": "b3d1aefd-302e-4bfb-e952-e0401a55fd4e"
      },
      "source": [
        "a = np.array([1, 2, 3])  # Create a rank 1 array\n",
        "print(type(a), a.shape, a[0], a[1], a[2])\n",
        "a[0] = 5                 # Change an element of the array\n",
        "print(a)                  "
      ],
      "execution_count": null,
      "outputs": [
        {
          "output_type": "stream",
          "name": "stdout",
          "text": [
            "<class 'numpy.ndarray'> (3,) 1 2 3\n",
            "[5 2 3]\n"
          ]
        }
      ]
    },
    {
      "cell_type": "code",
      "metadata": {
        "colab": {
          "base_uri": "https://localhost:8080/"
        },
        "id": "KjM6o-jK0NoS",
        "outputId": "bcc8225b-fedd-4518-a140-c15930c8fe05"
      },
      "source": [
        "b = np.array([[1,2,3],[4,5,6]])   # Create a rank 2 array\n",
        "print(b)"
      ],
      "execution_count": null,
      "outputs": [
        {
          "output_type": "stream",
          "name": "stdout",
          "text": [
            "[[1 2 3]\n",
            " [4 5 6]]\n"
          ]
        }
      ]
    },
    {
      "cell_type": "code",
      "metadata": {
        "colab": {
          "base_uri": "https://localhost:8080/"
        },
        "id": "qtdpM3DK0Py6",
        "outputId": "cf587e47-d8ca-42d0-f816-e9b722a669e5"
      },
      "source": [
        "print(b.shape)\n",
        "print(b[0, 0], b[0, 1], b[1, 0])"
      ],
      "execution_count": null,
      "outputs": [
        {
          "output_type": "stream",
          "name": "stdout",
          "text": [
            "(2, 3)\n",
            "1 2 4\n"
          ]
        }
      ]
    },
    {
      "cell_type": "markdown",
      "metadata": {
        "id": "rO48RnNB0Vcw"
      },
      "source": [
        "Task 1: Create a 3 by 3 matrix of the numbers from 1-9 in any order. Assign it to the variable agatha."
      ]
    },
    {
      "cell_type": "code",
      "metadata": {
        "id": "4M8Mgrox0R6_"
      },
      "source": [
        ""
      ],
      "execution_count": null,
      "outputs": []
    },
    {
      "cell_type": "markdown",
      "metadata": {
        "id": "mOt4yMM10fI3"
      },
      "source": [
        "Numpy also provides many functions to create arrays:"
      ]
    },
    {
      "cell_type": "code",
      "metadata": {
        "colab": {
          "base_uri": "https://localhost:8080/"
        },
        "id": "rdgHjthn0fjh",
        "outputId": "b9532de6-3e4c-4d08-fb2a-fffd73fa3fa4"
      },
      "source": [
        "a = np.zeros((2,2))  # Create an array of all zeros\n",
        "print(a)"
      ],
      "execution_count": null,
      "outputs": [
        {
          "output_type": "stream",
          "name": "stdout",
          "text": [
            "[[0. 0.]\n",
            " [0. 0.]]\n"
          ]
        }
      ]
    },
    {
      "cell_type": "code",
      "metadata": {
        "colab": {
          "base_uri": "https://localhost:8080/"
        },
        "id": "7vm6-V4c0nhm",
        "outputId": "8551be51-7a0d-40f4-b623-1498d9a45712"
      },
      "source": [
        "b = np.ones((1,2))   # Create an array of all ones; number of arrays, number of elements\n",
        "print(b)"
      ],
      "execution_count": null,
      "outputs": [
        {
          "output_type": "stream",
          "name": "stdout",
          "text": [
            "[[1. 1.]]\n"
          ]
        }
      ]
    },
    {
      "cell_type": "code",
      "metadata": {
        "colab": {
          "base_uri": "https://localhost:8080/"
        },
        "id": "fVXpqkiuTbNb",
        "outputId": "fb7c004a-33e3-447b-cb40-1aa9f0ab5178"
      },
      "source": [
        "b2 = np.ones((2,4)) \n",
        "print(b2)"
      ],
      "execution_count": null,
      "outputs": [
        {
          "output_type": "stream",
          "name": "stdout",
          "text": [
            "[[1. 1. 1. 1.]\n",
            " [1. 1. 1. 1.]]\n"
          ]
        }
      ]
    },
    {
      "cell_type": "code",
      "metadata": {
        "colab": {
          "base_uri": "https://localhost:8080/"
        },
        "id": "CNoq5EWI0pTY",
        "outputId": "df47b52b-c14b-4a61-f24c-0328c1b514a8"
      },
      "source": [
        "c = np.full((2,2), 7) # Create a constant array\n",
        "print(c)"
      ],
      "execution_count": null,
      "outputs": [
        {
          "output_type": "stream",
          "name": "stdout",
          "text": [
            "[[7 7]\n",
            " [7 7]]\n"
          ]
        }
      ]
    },
    {
      "cell_type": "code",
      "metadata": {
        "colab": {
          "base_uri": "https://localhost:8080/"
        },
        "id": "pbPUn2fB0qqP",
        "outputId": "a541eaa7-6b40-4cb3-9966-2051158520f7"
      },
      "source": [
        "d = np.eye(2)        # Create a 2x2 identity matrix\n",
        "print(d)"
      ],
      "execution_count": null,
      "outputs": [
        {
          "output_type": "stream",
          "name": "stdout",
          "text": [
            "[[1. 0.]\n",
            " [0. 1.]]\n"
          ]
        }
      ]
    },
    {
      "cell_type": "markdown",
      "metadata": {
        "id": "5kAb0J5e0xwd"
      },
      "source": [
        "Numpy offers several ways to index into arrays."
      ]
    },
    {
      "cell_type": "code",
      "metadata": {
        "colab": {
          "base_uri": "https://localhost:8080/"
        },
        "id": "p_IXINqt0sNL",
        "outputId": "8902fb21-21bb-4f5c-e7b3-f923ab1402c1"
      },
      "source": [
        "# Create the following rank 2 array with shape (3, 4)\n",
        "# [[ 1  2  3  4]\n",
        "#  [ 5  6  7  8]\n",
        "#  [ 9 10 11 12]]\n",
        "a = np.array([[1,2,3,4], [5,6,7,8], [9,10,11,12]])\n",
        "\n",
        "# Use slicing to pull out the subarray consisting of the first 2 rows\n",
        "# and columns 1 and 2; b is the following array of shape (2, 2):\n",
        "# [[2 3]\n",
        "#  [6 7]]\n",
        "b = a[:2, 1:3] #which nested arrays, which elements within the arrays\n",
        "print(b)"
      ],
      "execution_count": null,
      "outputs": [
        {
          "output_type": "stream",
          "name": "stdout",
          "text": [
            "[[2 3]\n",
            " [6 7]]\n"
          ]
        }
      ]
    },
    {
      "cell_type": "markdown",
      "metadata": {
        "id": "ER5lU4FF1EKC"
      },
      "source": [
        "Task 2: Use slicing to pull out the subarray consisting of the lower-right 2x2 matrix and assign it to the variable baltimore."
      ]
    },
    {
      "cell_type": "code",
      "metadata": {
        "id": "n1TJmw1Q1DIS"
      },
      "source": [
        ""
      ],
      "execution_count": null,
      "outputs": []
    },
    {
      "cell_type": "markdown",
      "metadata": {
        "id": "kpwkSa7Q1W8f"
      },
      "source": [
        "A slice of an array is a view into the same data, so modifying it will modify the original array."
      ]
    },
    {
      "cell_type": "code",
      "metadata": {
        "colab": {
          "base_uri": "https://localhost:8080/"
        },
        "id": "GsDf9fMk1P7v",
        "outputId": "6b0719a8-e07c-4ccf-bf3b-d664c40e9b3c"
      },
      "source": [
        "print(a[0, 1])\n",
        "b[0, 0] = 77    # b[0, 0] is the same piece of data as a[0, 1]\n",
        "print(a[0, 1]) "
      ],
      "execution_count": null,
      "outputs": [
        {
          "output_type": "stream",
          "name": "stdout",
          "text": [
            "2\n",
            "77\n"
          ]
        }
      ]
    },
    {
      "cell_type": "markdown",
      "metadata": {
        "id": "byGLD1cu1iio"
      },
      "source": [
        "Integer array indexing: When you index into numpy arrays using slicing, the resulting array view will always be a subarray of the original array. In contrast, integer array indexing allows you to construct arbitrary arrays using the data from another array. Here is an example:"
      ]
    },
    {
      "cell_type": "code",
      "metadata": {
        "colab": {
          "base_uri": "https://localhost:8080/"
        },
        "id": "vOd7FVzt1ZKi",
        "outputId": "b11c2e5f-f7fc-4967-a4bf-3a278ea568da"
      },
      "source": [
        "a = np.array([[1,2], [3, 4], [5, 6]])\n",
        "\n",
        "# An example of integer array indexing.\n",
        "# The returned array will have shape (3,) and \n",
        "print(a[[0, 1, 2], [0, 1, 0]])\n",
        "\n",
        "# The above example of integer array indexing is equivalent to this:\n",
        "print(np.array([a[0, 0], a[1, 1], a[2, 0]]))"
      ],
      "execution_count": null,
      "outputs": [
        {
          "output_type": "stream",
          "name": "stdout",
          "text": [
            "[1 4 5]\n",
            "[1 4 5]\n"
          ]
        }
      ]
    },
    {
      "cell_type": "markdown",
      "metadata": {
        "id": "HIBlLdm213Go"
      },
      "source": [
        "Array Math: Basic mathematical functions operate elementwise on arrays, and are available both as operator overloads and as functions in the numpy module"
      ]
    },
    {
      "cell_type": "code",
      "metadata": {
        "colab": {
          "base_uri": "https://localhost:8080/"
        },
        "id": "PhRt9xA915-1",
        "outputId": "de5e4a21-b6fd-4071-e2bf-df4e571915db"
      },
      "source": [
        "x = np.array([[1,2],[3,4]], dtype=np.float64)\n",
        "y = np.array([[5,6],[7,8]], dtype=np.float64)\n",
        "\n",
        "# Elementwise sum; both produce the array\n",
        "print(x + y)\n",
        "print(np.add(x, y))"
      ],
      "execution_count": null,
      "outputs": [
        {
          "output_type": "stream",
          "name": "stdout",
          "text": [
            "[[ 6.  8.]\n",
            " [10. 12.]]\n",
            "[[ 6.  8.]\n",
            " [10. 12.]]\n"
          ]
        }
      ]
    },
    {
      "cell_type": "code",
      "metadata": {
        "colab": {
          "base_uri": "https://localhost:8080/"
        },
        "id": "wRjrYIme179d",
        "outputId": "d861d9e6-18b9-4448-8f6c-307be7c4b60c"
      },
      "source": [
        "# Elementwise difference; both produce the array\n",
        "print(x - y)\n",
        "print(np.subtract(x, y))"
      ],
      "execution_count": null,
      "outputs": [
        {
          "output_type": "stream",
          "name": "stdout",
          "text": [
            "[[-4. -4.]\n",
            " [-4. -4.]]\n",
            "[[-4. -4.]\n",
            " [-4. -4.]]\n"
          ]
        }
      ]
    },
    {
      "cell_type": "code",
      "metadata": {
        "colab": {
          "base_uri": "https://localhost:8080/"
        },
        "id": "uz3yeL38194v",
        "outputId": "b37a09e9-ecc9-41e6-db22-1d6ff068dda9"
      },
      "source": [
        "# Elementwise product; both produce the array\n",
        "print(x * y)\n",
        "print(np.multiply(x, y))"
      ],
      "execution_count": null,
      "outputs": [
        {
          "output_type": "stream",
          "name": "stdout",
          "text": [
            "[[ 5. 12.]\n",
            " [21. 32.]]\n",
            "[[ 5. 12.]\n",
            " [21. 32.]]\n"
          ]
        }
      ]
    },
    {
      "cell_type": "code",
      "metadata": {
        "colab": {
          "base_uri": "https://localhost:8080/"
        },
        "id": "ekwWSZ-O1_zb",
        "outputId": "c0d1fb17-8ab8-47db-85ec-ddecaf68c6f4"
      },
      "source": [
        "# Elementwise division; both produce the array\n",
        "# [[ 0.2         0.33333333]\n",
        "#  [ 0.42857143  0.5       ]]\n",
        "print(x / y)\n",
        "print(np.divide(x, y))"
      ],
      "execution_count": null,
      "outputs": [
        {
          "output_type": "stream",
          "name": "stdout",
          "text": [
            "[[0.2        0.33333333]\n",
            " [0.42857143 0.5       ]]\n",
            "[[0.2        0.33333333]\n",
            " [0.42857143 0.5       ]]\n"
          ]
        }
      ]
    },
    {
      "cell_type": "code",
      "metadata": {
        "colab": {
          "base_uri": "https://localhost:8080/"
        },
        "id": "CmZea9No2B9q",
        "outputId": "bf9b3697-13a1-477e-a49d-71cce97d2570"
      },
      "source": [
        "# Elementwise square root; produces the array\n",
        "# [[ 1.          1.41421356]\n",
        "#  [ 1.73205081  2.        ]]\n",
        "print(np.sqrt(x))"
      ],
      "execution_count": null,
      "outputs": [
        {
          "output_type": "stream",
          "name": "stdout",
          "text": [
            "[[1.         1.41421356]\n",
            " [1.73205081 2.        ]]\n"
          ]
        }
      ]
    },
    {
      "cell_type": "markdown",
      "metadata": {
        "id": "j7fRqkQD2Gdn"
      },
      "source": [
        "* is elementwise multiplication, not matrix multiplication. We instead use the dot function to compute inner products of vectors, to multiply a vector by a matrix, and to multiply matrices. dot is available both as a function in the numpy module and as an instance method of array objects:"
      ]
    },
    {
      "cell_type": "code",
      "metadata": {
        "colab": {
          "base_uri": "https://localhost:8080/"
        },
        "id": "gXHjg3a-2D2V",
        "outputId": "6fb6f562-d3cc-43b2-ae33-d3a476dc52f7"
      },
      "source": [
        "x = np.array([[1,2],[3,4]])\n",
        "y = np.array([[5,6],[7,8]])\n",
        "\n",
        "v = np.array([9,10])\n",
        "w = np.array([11, 12])\n",
        "\n",
        "# Inner product of vectors; both produce 219\n",
        "print(v.dot(w))\n",
        "print(np.dot(v, w))"
      ],
      "execution_count": null,
      "outputs": [
        {
          "output_type": "stream",
          "name": "stdout",
          "text": [
            "219\n",
            "219\n"
          ]
        }
      ]
    },
    {
      "cell_type": "code",
      "metadata": {
        "colab": {
          "base_uri": "https://localhost:8080/"
        },
        "id": "UJlKc1zy2JEb",
        "outputId": "29849631-7866-4ed6-cce4-bc00b3dbf494"
      },
      "source": [
        "# Matrix / vector product; both produce the rank 1 array [29 67]\n",
        "print(x.dot(v))\n",
        "print(np.dot(x, v))\n",
        "print(x @ v)"
      ],
      "execution_count": null,
      "outputs": [
        {
          "output_type": "stream",
          "name": "stdout",
          "text": [
            "[29 67]\n",
            "[29 67]\n",
            "[29 67]\n"
          ]
        }
      ]
    },
    {
      "cell_type": "markdown",
      "metadata": {
        "id": "eFrwzYt22Oex"
      },
      "source": [
        "Task 3: Create the 2x2 identity matrix and assign it to the name charles. Multiply charles by 4 and add it to bartholomew. Then assign this new matrix to the variable dalton."
      ]
    },
    {
      "cell_type": "code",
      "metadata": {
        "id": "TC0JZrYs2Lnt"
      },
      "source": [
        ""
      ],
      "execution_count": null,
      "outputs": []
    },
    {
      "cell_type": "markdown",
      "metadata": {
        "id": "w5UfbBDz2iX3"
      },
      "source": [
        "Numpy provides many useful functions for performing computations on arrays; one of the most useful is sum:"
      ]
    },
    {
      "cell_type": "code",
      "metadata": {
        "colab": {
          "base_uri": "https://localhost:8080/"
        },
        "id": "ZLg8DA0N2jok",
        "outputId": "2ffdad23-2153-476f-cb38-a85dd77e48cd"
      },
      "source": [
        "x = np.array([[1,2],[3,4]])\n",
        "\n",
        "print(np.sum(x))  # Compute sum of all elements; prints \"10\"\n",
        "print(np.sum(x, axis=0))  # Compute sum of each column; prints \"[4 6]\"\n",
        "print(np.sum(x, axis=1))  # Compute sum of each row; prints \"[3 7]\""
      ],
      "execution_count": null,
      "outputs": [
        {
          "output_type": "stream",
          "name": "stdout",
          "text": [
            "10\n",
            "[4 6]\n",
            "[3 7]\n"
          ]
        }
      ]
    },
    {
      "cell_type": "markdown",
      "metadata": {
        "id": "Xe3NyjXN2mBu"
      },
      "source": [
        "Task 4: Print the sum of the elements of dalton."
      ]
    },
    {
      "cell_type": "code",
      "metadata": {
        "id": "GKxfhMMl2lU8"
      },
      "source": [
        ""
      ],
      "execution_count": null,
      "outputs": []
    },
    {
      "cell_type": "markdown",
      "metadata": {
        "id": "gTEgBfdr2vnR"
      },
      "source": [
        "*You* can find the full list of mathematical functions provided by numpy in the [documentation](http://docs.scipy.org/doc/numpy/reference/routines.math.html).\n",
        "\n",
        "Apart from computing mathematical functions using arrays, we frequently need to reshape or otherwise manipulate data in arrays. The simplest example of this type of operation is transposing a matrix; to transpose a matrix, simply use the T attribute of an array object:"
      ]
    },
    {
      "cell_type": "code",
      "metadata": {
        "colab": {
          "base_uri": "https://localhost:8080/"
        },
        "id": "t2pb7l-I2yOs",
        "outputId": "92a7316e-29df-483f-a2a6-3169650d4ca5"
      },
      "source": [
        "print(x)\n",
        "print(\"transpose\\n\", x.T)"
      ],
      "execution_count": null,
      "outputs": [
        {
          "output_type": "stream",
          "name": "stdout",
          "text": [
            "[[1 2]\n",
            " [3 4]]\n",
            "transpose\n",
            " [[1 3]\n",
            " [2 4]]\n"
          ]
        }
      ]
    },
    {
      "cell_type": "code",
      "metadata": {
        "colab": {
          "base_uri": "https://localhost:8080/"
        },
        "id": "y-PEVxry2z6Y",
        "outputId": "eab5ef5a-9fa2-467d-937b-3fda2087ba6e"
      },
      "source": [
        "v = np.array([[1,2,3]])\n",
        "print(v )\n",
        "print(\"transpose\\n\", v.T)"
      ],
      "execution_count": null,
      "outputs": [
        {
          "output_type": "stream",
          "name": "stdout",
          "text": [
            "[[1 2 3]]\n",
            "transpose\n",
            " [[1]\n",
            " [2]\n",
            " [3]]\n"
          ]
        }
      ]
    },
    {
      "cell_type": "markdown",
      "metadata": {
        "id": "LS3a17Wy3BfP"
      },
      "source": [
        "You can also reshape arrays using the reshape method."
      ]
    },
    {
      "cell_type": "code",
      "metadata": {
        "id": "s_nDg5QD21lm"
      },
      "source": [
        "reshape_array = np.array([[1,2],\n",
        "                          [3,4],\n",
        "                          [5,6]])"
      ],
      "execution_count": null,
      "outputs": []
    },
    {
      "cell_type": "code",
      "metadata": {
        "colab": {
          "base_uri": "https://localhost:8080/"
        },
        "id": "pIwc2vwz3XUG",
        "outputId": "cb472351-c5fe-42fb-82a7-55ee12e80dd3"
      },
      "source": [
        "np.reshape(reshape_array, (2, 3)) #number of rows, number of columns"
      ],
      "execution_count": null,
      "outputs": [
        {
          "output_type": "execute_result",
          "data": {
            "text/plain": [
              "array([[1, 2, 3],\n",
              "       [4, 5, 6]])"
            ]
          },
          "metadata": {},
          "execution_count": 166
        }
      ]
    },
    {
      "cell_type": "code",
      "metadata": {
        "colab": {
          "base_uri": "https://localhost:8080/"
        },
        "id": "Zm_NeWNAgj-w",
        "outputId": "8da0827d-a7ad-4d15-ecf9-50d88f3c1182"
      },
      "source": [
        "x.T"
      ],
      "execution_count": null,
      "outputs": [
        {
          "output_type": "execute_result",
          "data": {
            "text/plain": [
              "array([[1, 3],\n",
              "       [2, 4]])"
            ]
          },
          "metadata": {},
          "execution_count": 167
        }
      ]
    },
    {
      "cell_type": "markdown",
      "metadata": {
        "id": "YbEzsAHy3a_1"
      },
      "source": [
        "Task 5: Find the transpose of agatha and print it."
      ]
    },
    {
      "cell_type": "code",
      "metadata": {
        "id": "Hf9Act_a3Zw9"
      },
      "source": [
        ""
      ],
      "execution_count": null,
      "outputs": []
    },
    {
      "cell_type": "markdown",
      "metadata": {
        "id": "kbBg3x613iN7"
      },
      "source": [
        "\n",
        "Done!"
      ]
    }
  ]
}